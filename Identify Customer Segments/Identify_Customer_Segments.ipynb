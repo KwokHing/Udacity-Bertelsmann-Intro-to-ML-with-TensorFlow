{
 "cells": [
  {
   "cell_type": "markdown",
   "metadata": {},
   "source": [
    "# Project: Identify Customer Segments\n",
    "\n",
    "In this project, you will apply unsupervised learning techniques to identify segments of the population that form the core customer base for a mail-order sales company in Germany. These segments can then be used to direct marketing campaigns towards audiences that will have the highest expected rate of returns. The data that you will use has been provided by our partners at Bertelsmann Arvato Analytics, and represents a real-life data science task.\n",
    "\n",
    "This notebook will help you complete this task by providing a framework within which you will perform your analysis steps. In each step of the project, you will see some text describing the subtask that you will perform, followed by one or more code cells for you to complete your work. **Feel free to add additional code and markdown cells as you go along so that you can explore everything in precise chunks.** The code cells provided in the base template will outline only the major tasks, and will usually not be enough to cover all of the minor tasks that comprise it.\n",
    "\n",
    "It should be noted that while there will be precise guidelines on how you should handle certain tasks in the project, there will also be places where an exact specification is not provided. **There will be times in the project where you will need to make and justify your own decisions on how to treat the data.** These are places where there may not be only one way to handle the data. In real-life tasks, there may be many valid ways to approach an analysis task. One of the most important things you can do is clearly document your approach so that other scientists can understand the decisions you've made.\n",
    "\n",
    "At the end of most sections, there will be a Markdown cell labeled **Discussion**. In these cells, you will report your findings for the completed section, as well as document the decisions that you made in your approach to each subtask. **Your project will be evaluated not just on the code used to complete the tasks outlined, but also your communication about your observations and conclusions at each stage.**"
   ]
  },
  {
   "cell_type": "code",
   "execution_count": 1,
   "metadata": {},
   "outputs": [
    {
     "data": {
      "text/plain": [
       "'\\nImport note: The classroom currently uses sklearn version 0.19.\\nIf you need to use an imputer, it is available in sklearn.preprocessing.Imputer,\\ninstead of sklearn.impute as in newer versions of sklearn.\\n'"
      ]
     },
     "execution_count": 1,
     "metadata": {},
     "output_type": "execute_result"
    }
   ],
   "source": [
    "# import libraries here; add more as necessary\n",
    "import numpy as np\n",
    "import pandas as pd\n",
    "import matplotlib.pyplot as plt\n",
    "import seaborn as sns\n",
    "\n",
    "# magic word for producing visualizations in notebook\n",
    "%matplotlib inline\n",
    "\n",
    "'''\n",
    "Import note: The classroom currently uses sklearn version 0.19.\n",
    "If you need to use an imputer, it is available in sklearn.preprocessing.Imputer,\n",
    "instead of sklearn.impute as in newer versions of sklearn.\n",
    "'''"
   ]
  },
  {
   "cell_type": "markdown",
   "metadata": {},
   "source": [
    "### Step 0: Load the Data\n",
    "\n",
    "There are four files associated with this project (not including this one):\n",
    "\n",
    "- `Udacity_AZDIAS_Subset.csv`: Demographics data for the general population of Germany; 891211 persons (rows) x 85 features (columns).\n",
    "- `Udacity_CUSTOMERS_Subset.csv`: Demographics data for customers of a mail-order company; 191652 persons (rows) x 85 features (columns).\n",
    "- `Data_Dictionary.md`: Detailed information file about the features in the provided datasets.\n",
    "- `AZDIAS_Feature_Summary.csv`: Summary of feature attributes for demographics data; 85 features (rows) x 4 columns\n",
    "\n",
    "Each row of the demographics files represents a single person, but also includes information outside of individuals, including information about their household, building, and neighborhood. You will use this information to cluster the general population into groups with similar demographic properties. Then, you will see how the people in the customers dataset fit into those created clusters. The hope here is that certain clusters are over-represented in the customers data, as compared to the general population; those over-represented clusters will be assumed to be part of the core userbase. This information can then be used for further applications, such as targeting for a marketing campaign.\n",
    "\n",
    "To start off with, load in the demographics data for the general population into a pandas DataFrame, and do the same for the feature attributes summary. Note for all of the `.csv` data files in this project: they're semicolon (`;`) delimited, so you'll need an additional argument in your [`read_csv()`](https://pandas.pydata.org/pandas-docs/stable/generated/pandas.read_csv.html) call to read in the data properly. Also, considering the size of the main dataset, it may take some time for it to load completely.\n",
    "\n",
    "Once the dataset is loaded, it's recommended that you take a little bit of time just browsing the general structure of the dataset and feature summary file. You'll be getting deep into the innards of the cleaning in the first major step of the project, so gaining some general familiarity can help you get your bearings."
   ]
  },
  {
   "cell_type": "code",
   "execution_count": 2,
   "metadata": {},
   "outputs": [],
   "source": [
    "# Load in the general demographics data.\n",
    "azdias = pd.read_csv('Udacity_AZDIAS_Subset.csv', sep=';')\n",
    "\n",
    "# Load in the feature summary file.\n",
    "feat_info = pd.read_csv('AZDIAS_Feature_Summary.csv', sep=';')"
   ]
  },
  {
   "cell_type": "code",
   "execution_count": 3,
   "metadata": {},
   "outputs": [
    {
     "name": "stdout",
     "output_type": "stream",
     "text": [
      "(891221, 85)\n"
     ]
    },
    {
     "data": {
      "text/html": [
       "<div>\n",
       "<style scoped>\n",
       "    .dataframe tbody tr th:only-of-type {\n",
       "        vertical-align: middle;\n",
       "    }\n",
       "\n",
       "    .dataframe tbody tr th {\n",
       "        vertical-align: top;\n",
       "    }\n",
       "\n",
       "    .dataframe thead th {\n",
       "        text-align: right;\n",
       "    }\n",
       "</style>\n",
       "<table border=\"1\" class=\"dataframe\">\n",
       "  <thead>\n",
       "    <tr style=\"text-align: right;\">\n",
       "      <th></th>\n",
       "      <th>AGER_TYP</th>\n",
       "      <th>ALTERSKATEGORIE_GROB</th>\n",
       "      <th>ANREDE_KZ</th>\n",
       "      <th>CJT_GESAMTTYP</th>\n",
       "      <th>FINANZ_MINIMALIST</th>\n",
       "      <th>FINANZ_SPARER</th>\n",
       "      <th>FINANZ_VORSORGER</th>\n",
       "      <th>FINANZ_ANLEGER</th>\n",
       "      <th>FINANZ_UNAUFFAELLIGER</th>\n",
       "      <th>FINANZ_HAUSBAUER</th>\n",
       "      <th>...</th>\n",
       "      <th>PLZ8_ANTG1</th>\n",
       "      <th>PLZ8_ANTG2</th>\n",
       "      <th>PLZ8_ANTG3</th>\n",
       "      <th>PLZ8_ANTG4</th>\n",
       "      <th>PLZ8_BAUMAX</th>\n",
       "      <th>PLZ8_HHZ</th>\n",
       "      <th>PLZ8_GBZ</th>\n",
       "      <th>ARBEIT</th>\n",
       "      <th>ORTSGR_KLS9</th>\n",
       "      <th>RELAT_AB</th>\n",
       "    </tr>\n",
       "  </thead>\n",
       "  <tbody>\n",
       "    <tr>\n",
       "      <th>0</th>\n",
       "      <td>-1</td>\n",
       "      <td>2</td>\n",
       "      <td>1</td>\n",
       "      <td>2.0</td>\n",
       "      <td>3</td>\n",
       "      <td>4</td>\n",
       "      <td>3</td>\n",
       "      <td>5</td>\n",
       "      <td>5</td>\n",
       "      <td>3</td>\n",
       "      <td>...</td>\n",
       "      <td>NaN</td>\n",
       "      <td>NaN</td>\n",
       "      <td>NaN</td>\n",
       "      <td>NaN</td>\n",
       "      <td>NaN</td>\n",
       "      <td>NaN</td>\n",
       "      <td>NaN</td>\n",
       "      <td>NaN</td>\n",
       "      <td>NaN</td>\n",
       "      <td>NaN</td>\n",
       "    </tr>\n",
       "    <tr>\n",
       "      <th>1</th>\n",
       "      <td>-1</td>\n",
       "      <td>1</td>\n",
       "      <td>2</td>\n",
       "      <td>5.0</td>\n",
       "      <td>1</td>\n",
       "      <td>5</td>\n",
       "      <td>2</td>\n",
       "      <td>5</td>\n",
       "      <td>4</td>\n",
       "      <td>5</td>\n",
       "      <td>...</td>\n",
       "      <td>2.0</td>\n",
       "      <td>3.0</td>\n",
       "      <td>2.0</td>\n",
       "      <td>1.0</td>\n",
       "      <td>1.0</td>\n",
       "      <td>5.0</td>\n",
       "      <td>4.0</td>\n",
       "      <td>3.0</td>\n",
       "      <td>5.0</td>\n",
       "      <td>4.0</td>\n",
       "    </tr>\n",
       "    <tr>\n",
       "      <th>2</th>\n",
       "      <td>-1</td>\n",
       "      <td>3</td>\n",
       "      <td>2</td>\n",
       "      <td>3.0</td>\n",
       "      <td>1</td>\n",
       "      <td>4</td>\n",
       "      <td>1</td>\n",
       "      <td>2</td>\n",
       "      <td>3</td>\n",
       "      <td>5</td>\n",
       "      <td>...</td>\n",
       "      <td>3.0</td>\n",
       "      <td>3.0</td>\n",
       "      <td>1.0</td>\n",
       "      <td>0.0</td>\n",
       "      <td>1.0</td>\n",
       "      <td>4.0</td>\n",
       "      <td>4.0</td>\n",
       "      <td>3.0</td>\n",
       "      <td>5.0</td>\n",
       "      <td>2.0</td>\n",
       "    </tr>\n",
       "    <tr>\n",
       "      <th>3</th>\n",
       "      <td>2</td>\n",
       "      <td>4</td>\n",
       "      <td>2</td>\n",
       "      <td>2.0</td>\n",
       "      <td>4</td>\n",
       "      <td>2</td>\n",
       "      <td>5</td>\n",
       "      <td>2</td>\n",
       "      <td>1</td>\n",
       "      <td>2</td>\n",
       "      <td>...</td>\n",
       "      <td>2.0</td>\n",
       "      <td>2.0</td>\n",
       "      <td>2.0</td>\n",
       "      <td>0.0</td>\n",
       "      <td>1.0</td>\n",
       "      <td>3.0</td>\n",
       "      <td>4.0</td>\n",
       "      <td>2.0</td>\n",
       "      <td>3.0</td>\n",
       "      <td>3.0</td>\n",
       "    </tr>\n",
       "    <tr>\n",
       "      <th>4</th>\n",
       "      <td>-1</td>\n",
       "      <td>3</td>\n",
       "      <td>1</td>\n",
       "      <td>5.0</td>\n",
       "      <td>4</td>\n",
       "      <td>3</td>\n",
       "      <td>4</td>\n",
       "      <td>1</td>\n",
       "      <td>3</td>\n",
       "      <td>2</td>\n",
       "      <td>...</td>\n",
       "      <td>2.0</td>\n",
       "      <td>4.0</td>\n",
       "      <td>2.0</td>\n",
       "      <td>1.0</td>\n",
       "      <td>2.0</td>\n",
       "      <td>3.0</td>\n",
       "      <td>3.0</td>\n",
       "      <td>4.0</td>\n",
       "      <td>6.0</td>\n",
       "      <td>5.0</td>\n",
       "    </tr>\n",
       "  </tbody>\n",
       "</table>\n",
       "<p>5 rows × 85 columns</p>\n",
       "</div>"
      ],
      "text/plain": [
       "   AGER_TYP  ALTERSKATEGORIE_GROB  ANREDE_KZ  CJT_GESAMTTYP  \\\n",
       "0        -1                     2          1            2.0   \n",
       "1        -1                     1          2            5.0   \n",
       "2        -1                     3          2            3.0   \n",
       "3         2                     4          2            2.0   \n",
       "4        -1                     3          1            5.0   \n",
       "\n",
       "   FINANZ_MINIMALIST  FINANZ_SPARER  FINANZ_VORSORGER  FINANZ_ANLEGER  \\\n",
       "0                  3              4                 3               5   \n",
       "1                  1              5                 2               5   \n",
       "2                  1              4                 1               2   \n",
       "3                  4              2                 5               2   \n",
       "4                  4              3                 4               1   \n",
       "\n",
       "   FINANZ_UNAUFFAELLIGER  FINANZ_HAUSBAUER    ...     PLZ8_ANTG1  PLZ8_ANTG2  \\\n",
       "0                      5                 3    ...            NaN         NaN   \n",
       "1                      4                 5    ...            2.0         3.0   \n",
       "2                      3                 5    ...            3.0         3.0   \n",
       "3                      1                 2    ...            2.0         2.0   \n",
       "4                      3                 2    ...            2.0         4.0   \n",
       "\n",
       "   PLZ8_ANTG3  PLZ8_ANTG4  PLZ8_BAUMAX  PLZ8_HHZ  PLZ8_GBZ  ARBEIT  \\\n",
       "0         NaN         NaN          NaN       NaN       NaN     NaN   \n",
       "1         2.0         1.0          1.0       5.0       4.0     3.0   \n",
       "2         1.0         0.0          1.0       4.0       4.0     3.0   \n",
       "3         2.0         0.0          1.0       3.0       4.0     2.0   \n",
       "4         2.0         1.0          2.0       3.0       3.0     4.0   \n",
       "\n",
       "   ORTSGR_KLS9  RELAT_AB  \n",
       "0          NaN       NaN  \n",
       "1          5.0       4.0  \n",
       "2          5.0       2.0  \n",
       "3          3.0       3.0  \n",
       "4          6.0       5.0  \n",
       "\n",
       "[5 rows x 85 columns]"
      ]
     },
     "execution_count": 3,
     "metadata": {},
     "output_type": "execute_result"
    }
   ],
   "source": [
    "# Check the structure of the data after it's loaded (e.g. print the number of\n",
    "# rows and columns, print the first few rows).\n",
    "\n",
    "print(azdias.shape)\n",
    "azdias.head()"
   ]
  },
  {
   "cell_type": "code",
   "execution_count": 4,
   "metadata": {},
   "outputs": [
    {
     "name": "stdout",
     "output_type": "stream",
     "text": [
      "(85, 4)\n",
      "              attribute information_level         type missing_or_unknown\n",
      "0              AGER_TYP            person  categorical             [-1,0]\n",
      "1  ALTERSKATEGORIE_GROB            person      ordinal           [-1,0,9]\n",
      "2             ANREDE_KZ            person  categorical             [-1,0]\n",
      "3         CJT_GESAMTTYP            person  categorical                [0]\n",
      "4     FINANZ_MINIMALIST            person      ordinal               [-1]\n"
     ]
    }
   ],
   "source": [
    "print(feat_info.shape)\n",
    "print(feat_info.head())"
   ]
  },
  {
   "cell_type": "markdown",
   "metadata": {},
   "source": [
    "> **Tip**: Add additional cells to keep everything in reasonably-sized chunks! Keyboard shortcut `esc --> a` (press escape to enter command mode, then press the 'A' key) adds a new cell before the active cell, and `esc --> b` adds a new cell after the active cell. If you need to convert an active cell to a markdown cell, use `esc --> m` and to convert to a code cell, use `esc --> y`. \n",
    "\n",
    "## Step 1: Preprocessing\n",
    "\n",
    "### Step 1.1: Assess Missing Data\n",
    "\n",
    "The feature summary file contains a summary of properties for each demographics data column. You will use this file to help you make cleaning decisions during this stage of the project. First of all, you should assess the demographics data in terms of missing data. Pay attention to the following points as you perform your analysis, and take notes on what you observe. Make sure that you fill in the **Discussion** cell with your findings and decisions at the end of each step that has one!\n",
    "\n",
    "#### Step 1.1.1: Convert Missing Value Codes to NaNs\n",
    "The fourth column of the feature attributes summary (loaded in above as `feat_info`) documents the codes from the data dictionary that indicate missing or unknown data. While the file encodes this as a list (e.g. `[-1,0]`), this will get read in as a string object. You'll need to do a little bit of parsing to make use of it to identify and clean the data. Convert data that matches a 'missing' or 'unknown' value code into a numpy NaN value. You might want to see how much data takes on a 'missing' or 'unknown' code, and how much data is naturally missing, as a point of interest.\n",
    "\n",
    "**As one more reminder, you are encouraged to add additional cells to break up your analysis into manageable chunks.**"
   ]
  },
  {
   "cell_type": "code",
   "execution_count": 5,
   "metadata": {},
   "outputs": [
    {
     "name": "stdout",
     "output_type": "stream",
     "text": [
      "Number of naturally missing values: 4896838\n"
     ]
    }
   ],
   "source": [
    "print('Number of naturally missing values: {}'.format(azdias.isnull().sum().sum()))"
   ]
  },
  {
   "cell_type": "code",
   "execution_count": 6,
   "metadata": {},
   "outputs": [],
   "source": [
    "# Identify missing or unknown data values and convert them to NaNs.\n",
    "\n",
    "def missing_splited(missing_or_unknown):\n",
    "    new_list=list()\n",
    "    for values in missing_or_unknown:\n",
    "        new_list.append(values[1:-1].split(','))\n",
    "    return new_list\n",
    "\n",
    "missing_values = missing_splited(feat_info['missing_or_unknown'])\n",
    "\n",
    "for attribute, missing_values_list in zip(feat_info[\"attribute\"],missing_values):\n",
    "    if missing_values_list[0] != '': # if the list not empty \n",
    "        for missing_value in missing_values_list:\n",
    "            #check if the missing value is number (negative or positive numbers)\n",
    "            if missing_value.isnumeric() or missing_value.lstrip('-').isnumeric():\n",
    "                missing_value = int(missing_value)\n",
    "            \n",
    "            azdias.loc[azdias[attribute] == missing_value, attribute] = np.nan"
   ]
  },
  {
   "cell_type": "code",
   "execution_count": 7,
   "metadata": {},
   "outputs": [
    {
     "name": "stdout",
     "output_type": "stream",
     "text": [
      "Number of missing values after conversion: 8373929\n"
     ]
    }
   ],
   "source": [
    "print('Number of missing values after conversion: {}'.format(azdias.isnull().sum().sum()))"
   ]
  },
  {
   "cell_type": "markdown",
   "metadata": {},
   "source": [
    "#### Step 1.1.2: Assess Missing Data in Each Column\n",
    "\n",
    "How much missing data is present in each column? There are a few columns that are outliers in terms of the proportion of values that are missing. You will want to use matplotlib's [`hist()`](https://matplotlib.org/api/_as_gen/matplotlib.pyplot.hist.html) function to visualize the distribution of missing value counts to find these columns. Identify and document these columns. While some of these columns might have justifications for keeping or re-encoding the data, for this project you should just remove them from the dataframe. (Feel free to make remarks about these outlier columns in the discussion, however!)\n",
    "\n",
    "For the remaining features, are there any patterns in which columns have, or share, missing data?"
   ]
  },
  {
   "cell_type": "code",
   "execution_count": 8,
   "metadata": {},
   "outputs": [
    {
     "data": {
      "text/plain": [
       "61"
      ]
     },
     "execution_count": 8,
     "metadata": {},
     "output_type": "execute_result"
    }
   ],
   "source": [
    "# Perform an assessment of how much missing data there is in each column of the\n",
    "# dataset.\n",
    "\n",
    "col_percent_missing =(azdias.isnull().sum()/len(azdias))*100\n",
    "len(col_percent_missing[col_percent_missing > 0])"
   ]
  },
  {
   "cell_type": "code",
   "execution_count": 9,
   "metadata": {},
   "outputs": [
    {
     "data": {
      "image/png": "[encoded data removed]",
      "text/plain": [
       "<matplotlib.figure.Figure at 0x7f9b6212ef60>"
      ]
     },
     "metadata": {
      "needs_background": "light"
     },
     "output_type": "display_data"
    }
   ],
   "source": [
    "# Investigate patterns in the amount of missing data in each column.\n",
    "\n",
    "plt.hist(col_percent_missing[col_percent_missing > 0])\n",
    "plt.ylabel('Num. of Columns')\n",
    "plt.xlabel('% of Missing Values')\n",
    "plt.show()"
   ]
  },
  {
   "cell_type": "code",
   "execution_count": 10,
   "metadata": {},
   "outputs": [
    {
     "name": "stdout",
     "output_type": "stream",
     "text": [
      "Columns to be dropped: ['AGER_TYP', 'GEBURTSJAHR', 'TITEL_KZ', 'ALTER_HH', 'KK_KUNDENTYP', 'KBA05_BAUMAX']\n"
     ]
    }
   ],
   "source": [
    "# Remove the outlier columns from the dataset. (You'll perform other data\n",
    "# engineering tasks such as re-encoding and imputation later.)\n",
    "\n",
    "outlier_cols = col_percent_missing[col_percent_missing > 20]\n",
    "\n",
    "print('Columns to be dropped: {}'.format(outlier_cols.index.tolist())) \n",
    "\n",
    "azdias = azdias.drop(outlier_cols.index.tolist(), axis=1)"
   ]
  },
  {
   "cell_type": "markdown",
   "metadata": {},
   "source": [
    "#### Discussion 1.1.2: Assess Missing Data in Each Column\n",
    "\n",
    "(Double click this cell and replace this text with your own text, reporting your observations regarding the amount of missing data in each column. Are there any patterns in missing values? Which columns were removed from the dataset?)\n",
    "\n",
    "There are numerous columns have less than 20% missing data. Thus, columns that have more than 20% missing data are considered as outliers, and will be dropped: \n",
    "\n",
    "Dropped columns are 'AGER_TYP', 'GEBURTSJAHR', 'TITEL_KZ', 'ALTER_HH', 'KK_KUNDENTYP', 'KBA05_BAUMAX'."
   ]
  },
  {
   "cell_type": "markdown",
   "metadata": {},
   "source": [
    "#### Step 1.1.3: Assess Missing Data in Each Row\n",
    "\n",
    "Now, you'll perform a similar assessment for the rows of the dataset. How much data is missing in each row? As with the columns, you should see some groups of points that have a very different numbers of missing values. Divide the data into two subsets: one for data points that are above some threshold for missing values, and a second subset for points below that threshold.\n",
    "\n",
    "In order to know what to do with the outlier rows, we should see if the distribution of data values on columns that are not missing data (or are missing very little data) are similar or different between the two groups. Select at least five of these columns and compare the distribution of values.\n",
    "- You can use seaborn's [`countplot()`](https://seaborn.pydata.org/generated/seaborn.countplot.html) function to create a bar chart of code frequencies and matplotlib's [`subplot()`](https://matplotlib.org/api/_as_gen/matplotlib.pyplot.subplot.html) function to put bar charts for the two subplots side by side.\n",
    "- To reduce repeated code, you might want to write a function that can perform this comparison, taking as one of its arguments a column to be compared.\n",
    "\n",
    "Depending on what you observe in your comparison, this will have implications on how you approach your conclusions later in the analysis. If the distributions of non-missing features look similar between the data with many missing values and the data with few or no missing values, then we could argue that simply dropping those points from the analysis won't present a major issue. On the other hand, if the data with many missing values looks very different from the data with few or no missing values, then we should make a note on those data as special. We'll revisit these data later on. **Either way, you should continue your analysis for now using just the subset of the data with few or no missing values.**"
   ]
  },
  {
   "cell_type": "code",
   "execution_count": 11,
   "metadata": {},
   "outputs": [
    {
     "data": {
      "image/png": "[encoded data removed]",
      "text/plain": [
       "<matplotlib.figure.Figure at 0x7f9b62618c88>"
      ]
     },
     "metadata": {
      "needs_background": "light"
     },
     "output_type": "display_data"
    }
   ],
   "source": [
    "# How much data is missing in each row of the dataset?\n",
    "\n",
    "row_missing = azdias.isnull().sum(axis=1)\n",
    "plt.hist(row_missing)\n",
    "plt.ylabel('Num. of Rows')\n",
    "plt.xlabel('Num. of Missing Values')\n",
    "plt.show()"
   ]
  },
  {
   "cell_type": "code",
   "execution_count": 12,
   "metadata": {},
   "outputs": [],
   "source": [
    "# Write code to divide the data into two subsets based on the number of missing\n",
    "# values in each row.\n",
    "\n",
    "missing_less_20 = azdias[row_missing < 20]\n",
    "missing_above_20 = azdias[row_missing >= 20]"
   ]
  },
  {
   "cell_type": "code",
   "execution_count": 13,
   "metadata": {},
   "outputs": [],
   "source": [
    "# Compare the distribution of values for at least five columns where there are\n",
    "# no or few missing values, between the two subsets.\n",
    "\n",
    "zero_missing_col = col_percent_missing[col_percent_missing == 0].index.tolist()\n",
    "compare_columns = zero_missing_col[:6]"
   ]
  },
  {
   "cell_type": "code",
   "execution_count": 14,
   "metadata": {},
   "outputs": [
    {
     "data": {
      "image/png": "[encoded data removed]",
      "text/plain": [
       "<matplotlib.figure.Figure at 0x7f9b406cfac8>"
      ]
     },
     "metadata": {
      "needs_background": "light"
     },
     "output_type": "display_data"
    }
   ],
   "source": [
    "figure, axs = plt.subplots(nrows=len(compare_columns), ncols=2, figsize = (15,20))\n",
    "figure.subplots_adjust(hspace = 1, wspace=.3)\n",
    "for i in range(len(compare_columns)):\n",
    "    sns.countplot(missing_less_20[compare_columns[i]], ax=axs[i][0])\n",
    "    axs[i][0].set_title('Few or no missing values')\n",
    "    sns.countplot(missing_above_20[compare_columns[i]], ax=axs[i][1])\n",
    "    axs[i][1].set_title('Many missing values')"
   ]
  },
  {
   "cell_type": "markdown",
   "metadata": {},
   "source": [
    "#### Discussion 1.1.3: Assess Missing Data in Each Row\n",
    "\n",
    "(Double-click this cell and replace this text with your own text, reporting your observations regarding missing data in rows. Are the data with lots of missing values qualitatively different from data with few or no missing values?)\n",
    "\n",
    "It appears that the value distribution for _Financial_ related data are quite different, whereas _Gender_ feature looks pretty similar  "
   ]
  },
  {
   "cell_type": "markdown",
   "metadata": {},
   "source": [
    "### Step 1.2: Select and Re-Encode Features\n",
    "\n",
    "Checking for missing data isn't the only way in which you can prepare a dataset for analysis. Since the unsupervised learning techniques to be used will only work on data that is encoded numerically, you need to make a few encoding changes or additional assumptions to be able to make progress. In addition, while almost all of the values in the dataset are encoded using numbers, not all of them represent numeric values. Check the third column of the feature summary (`feat_info`) for a summary of types of measurement.\n",
    "- For numeric and interval data, these features can be kept without changes.\n",
    "- Most of the variables in the dataset are ordinal in nature. While ordinal values may technically be non-linear in spacing, make the simplifying assumption that the ordinal variables can be treated as being interval in nature (that is, kept without any changes).\n",
    "- Special handling may be necessary for the remaining two variable types: categorical, and 'mixed'.\n",
    "\n",
    "In the first two parts of this sub-step, you will perform an investigation of the categorical and mixed-type features and make a decision on each of them, whether you will keep, drop, or re-encode each. Then, in the last part, you will create a new data frame with only the selected and engineered columns.\n",
    "\n",
    "Data wrangling is often the trickiest part of the data analysis process, and there's a lot of it to be done here. But stick with it: once you're done with this step, you'll be ready to get to the machine learning parts of the project!"
   ]
  },
  {
   "cell_type": "code",
   "execution_count": 15,
   "metadata": {},
   "outputs": [
    {
     "data": {
      "text/plain": [
       "ordinal        49\n",
       "categorical    18\n",
       "mixed           6\n",
       "numeric         6\n",
       "Name: type, dtype: int64"
      ]
     },
     "execution_count": 15,
     "metadata": {},
     "output_type": "execute_result"
    }
   ],
   "source": [
    "# How many features are there of each data type?\n",
    "\n",
    "feat_info = feat_info[feat_info.attribute.isin(missing_less_20.columns)]\n",
    "feat_info['type'].value_counts()"
   ]
  },
  {
   "cell_type": "markdown",
   "metadata": {},
   "source": [
    "#### Step 1.2.1: Re-Encode Categorical Features\n",
    "\n",
    "For categorical data, you would ordinarily need to encode the levels as dummy variables. Depending on the number of categories, perform one of the following:\n",
    "- For binary (two-level) categoricals that take numeric values, you can keep them without needing to do anything.\n",
    "- There is one binary variable that takes on non-numeric values. For this one, you need to re-encode the values as numbers or create a dummy variable.\n",
    "- For multi-level categoricals (three or more values), you can choose to encode the values using multiple dummy variables (e.g. via [OneHotEncoder](http://scikit-learn.org/stable/modules/generated/sklearn.preprocessing.OneHotEncoder.html)), or (to keep things straightforward) just drop them from the analysis. As always, document your choices in the Discussion section."
   ]
  },
  {
   "cell_type": "code",
   "execution_count": 16,
   "metadata": {},
   "outputs": [],
   "source": [
    "# Assess categorical variables: which are binary, which are multi-level, and\n",
    "# which one needs to be re-encoded?\n",
    "\n",
    "cat_variables = feat_info[feat_info['type'] == 'categorical']"
   ]
  },
  {
   "cell_type": "code",
   "execution_count": 17,
   "metadata": {},
   "outputs": [
    {
     "name": "stdout",
     "output_type": "stream",
     "text": [
      "2.0    415578\n",
      "1.0    381499\n",
      "Name: ANREDE_KZ, dtype: int64\n",
      "0    621942\n",
      "1    175135\n",
      "Name: GREEN_AVANTGARDE, dtype: int64\n",
      "0.0    790370\n",
      "1.0      6707\n",
      "Name: SOHO_KZ, dtype: int64\n",
      "2.0    394116\n",
      "1.0    366623\n",
      "Name: VERS_TYP, dtype: int64\n",
      "W    628695\n",
      "O    168382\n",
      "Name: OST_WEST_KZ, dtype: int64\n"
     ]
    }
   ],
   "source": [
    "# Re-encode categorical variable(s) to be kept in the analysis.\n",
    "\n",
    "binary_cat = []\n",
    "multi_cat = []\n",
    "\n",
    "for col in cat_variables.attribute:\n",
    "    if missing_less_20[col].nunique()==2:\n",
    "        binary_cat.append(col)\n",
    "    else:\n",
    "        multi_cat.append(col)\n",
    "\n",
    "for col in binary_cat:\n",
    "    print(missing_less_20[col].value_counts())"
   ]
  },
  {
   "cell_type": "code",
   "execution_count": 18,
   "metadata": {},
   "outputs": [
    {
     "name": "stderr",
     "output_type": "stream",
     "text": [
      "/opt/conda/lib/python3.6/site-packages/pandas/core/generic.py:5890: SettingWithCopyWarning: \n",
      "A value is trying to be set on a copy of a slice from a DataFrame\n",
      "\n",
      "See the caveats in the documentation: http://pandas.pydata.org/pandas-docs/stable/indexing.html#indexing-view-versus-copy\n",
      "  self._update_inplace(new_data)\n"
     ]
    }
   ],
   "source": [
    "missing_less_20['OST_WEST_KZ'].replace({'W':0,'O':1}, inplace = True)\n",
    "missing_less_20 = pd.get_dummies(data = missing_less_20, columns = multi_cat)"
   ]
  },
  {
   "cell_type": "markdown",
   "metadata": {},
   "source": [
    "#### Discussion 1.2.1: Re-Encode Categorical Features\n",
    "\n",
    "(Double-click this cell and replace this text with your own text, reporting your findings and decisions regarding categorical features. Which ones did you keep, which did you drop, and what engineering steps did you perform?)\n",
    "\n",
    "1. Re-encoded values in 'OST_WEST_KZ' as integer\n",
    "2. Encode multi-level variables values using _get_dummies_ function in pandas "
   ]
  },
  {
   "cell_type": "markdown",
   "metadata": {},
   "source": [
    "#### Step 1.2.2: Engineer Mixed-Type Features\n",
    "\n",
    "There are a handful of features that are marked as \"mixed\" in the feature summary that require special treatment in order to be included in the analysis. There are two in particular that deserve attention; the handling of the rest are up to your own choices:\n",
    "- \"PRAEGENDE_JUGENDJAHRE\" combines information on three dimensions: generation by decade, movement (mainstream vs. avantgarde), and nation (east vs. west). While there aren't enough levels to disentangle east from west, you should create two new variables to capture the other two dimensions: an interval-type variable for decade, and a binary variable for movement.\n",
    "- \"CAMEO_INTL_2015\" combines information on two axes: wealth and life stage. Break up the two-digit codes by their 'tens'-place and 'ones'-place digits into two new ordinal variables (which, for the purposes of this project, is equivalent to just treating them as their raw numeric values).\n",
    "- If you decide to keep or engineer new features around the other mixed-type features, make sure you note your steps in the Discussion section.\n",
    "\n",
    "Be sure to check `Data_Dictionary.md` for the details needed to finish these tasks."
   ]
  },
  {
   "cell_type": "code",
   "execution_count": 19,
   "metadata": {},
   "outputs": [],
   "source": [
    "# Investigate \"PRAEGENDE_JUGENDJAHRE\" and engineer two new variables.\n",
    "\n",
    "decade_dict = {1:1, 2:1, 3:2, 4:2, 5:3, 6:3, 7:3, 8:4, 9:4, 10:5, 11:5, 12:5, 13:5, 14:6, 15:6}\n",
    "movement_dict = {1:1, 2:0, 3:1, 4:0, 5:1, 6:0, 7:0, 8:1, 9:0, 10:1, 11:0, 12:1, 13:0, 14:1, 15:0}\n",
    "\n",
    "missing_less_20['DECADE'] = missing_less_20['PRAEGENDE_JUGENDJAHRE']\n",
    "missing_less_20['MOVEMENT'] = missing_less_20['PRAEGENDE_JUGENDJAHRE']\n",
    "\n",
    "missing_less_20['DECADE'].replace(decade_dict, inplace = True)\n",
    "missing_less_20['MOVEMENT'].replace(movement_dict, inplace = True)"
   ]
  },
  {
   "cell_type": "code",
   "execution_count": 20,
   "metadata": {},
   "outputs": [],
   "source": [
    "# Investigate \"CAMEO_INTL_2015\" and engineer two new variables.\n",
    "\n",
    "wealth_dict = {'11':1, '12':1, '13':1, '14':1, '15':1, '21':2, '22':2, '23':2, '24':2, '25':2,\n",
    "               '31':3, '32':3, '33':3, '34':3, '35':3, '41':4, '42':4, '43':4, '44':4, '45':4,\n",
    "               '51':5, '52':5, '53':5, '54':5, '55':5}\n",
    "life_stage_dict = {'11':1, '12':2, '13':3, '14':4, '15':5, '21':1, '22':2, '23':3, '24':4, '25':5,\n",
    "                   '31':1, '32':2, '33':3, '34':4, '35':5, '41':1, '42':2, '43':3, '44':4, '45':5,\n",
    "                   '51':1, '52':2, '53':3, '54':4, '55':5}\n",
    "\n",
    "missing_less_20['WEALTH'] = missing_less_20['CAMEO_INTL_2015']\n",
    "missing_less_20['LIFE_STAGE'] = missing_less_20['CAMEO_INTL_2015']\n",
    "\n",
    "missing_less_20['WEALTH'].replace(wealth_dict, inplace = True)\n",
    "missing_less_20['LIFE_STAGE'].replace(life_stage_dict, inplace = True)"
   ]
  },
  {
   "cell_type": "markdown",
   "metadata": {},
   "source": [
    "#### Discussion 1.2.2: Engineer Mixed-Type Features\n",
    "\n",
    "(Double-click this cell and replace this text with your own text, reporting your findings and decisions regarding mixed-value features. Which ones did you keep, which did you drop, and what engineering steps did you perform?)\n",
    "\n",
    "The below two mixed-value features are kept:\n",
    "\n",
    "- PRAEGENDE_JUGENDJAHRE\n",
    "- CAMEO_INTL_2015\n",
    "\n",
    "Below engineering steps performed on the two mixed-value features:\n",
    "\n",
    "1. Created two new feature columns for each mixed-type feature\n",
    "2. Created two dictionaries to map intial feature values to new feature values\n",
    "3. Replaced mixed-type values with new values in dictionaries\n",
    "4. Drop mixed-type columns\n"
   ]
  },
  {
   "cell_type": "markdown",
   "metadata": {},
   "source": [
    "#### Step 1.2.3: Complete Feature Selection\n",
    "\n",
    "In order to finish this step up, you need to make sure that your data frame now only has the columns that you want to keep. To summarize, the dataframe should consist of the following:\n",
    "- All numeric, interval, and ordinal type columns from the original dataset.\n",
    "- Binary categorical features (all numerically-encoded).\n",
    "- Engineered features from other multi-level categorical features and mixed features.\n",
    "\n",
    "Make sure that for any new columns that you have engineered, that you've excluded the original columns from the final dataset. Otherwise, their values will interfere with the analysis later on the project. For example, you should not keep \"PRAEGENDE_JUGENDJAHRE\", since its values won't be useful for the algorithm: only the values derived from it in the engineered features you created should be retained. As a reminder, your data should only be from **the subset with few or no missing values**."
   ]
  },
  {
   "cell_type": "code",
   "execution_count": 21,
   "metadata": {},
   "outputs": [],
   "source": [
    "# If there are other re-engineering tasks you need to perform, make sure you\n",
    "# take care of them here. (Dealing with missing data will come in step 2.1.)\n",
    "\n"
   ]
  },
  {
   "cell_type": "code",
   "execution_count": 22,
   "metadata": {},
   "outputs": [
    {
     "data": {
      "text/html": [
       "<div>\n",
       "<style scoped>\n",
       "    .dataframe tbody tr th:only-of-type {\n",
       "        vertical-align: middle;\n",
       "    }\n",
       "\n",
       "    .dataframe tbody tr th {\n",
       "        vertical-align: top;\n",
       "    }\n",
       "\n",
       "    .dataframe thead th {\n",
       "        text-align: right;\n",
       "    }\n",
       "</style>\n",
       "<table border=\"1\" class=\"dataframe\">\n",
       "  <thead>\n",
       "    <tr style=\"text-align: right;\">\n",
       "      <th></th>\n",
       "      <th>ALTERSKATEGORIE_GROB</th>\n",
       "      <th>ANREDE_KZ</th>\n",
       "      <th>FINANZ_MINIMALIST</th>\n",
       "      <th>FINANZ_SPARER</th>\n",
       "      <th>FINANZ_VORSORGER</th>\n",
       "      <th>FINANZ_ANLEGER</th>\n",
       "      <th>FINANZ_UNAUFFAELLIGER</th>\n",
       "      <th>FINANZ_HAUSBAUER</th>\n",
       "      <th>GREEN_AVANTGARDE</th>\n",
       "      <th>HEALTH_TYP</th>\n",
       "      <th>...</th>\n",
       "      <th>CAMEO_DEU_2015_8D</th>\n",
       "      <th>CAMEO_DEU_2015_9A</th>\n",
       "      <th>CAMEO_DEU_2015_9B</th>\n",
       "      <th>CAMEO_DEU_2015_9C</th>\n",
       "      <th>CAMEO_DEU_2015_9D</th>\n",
       "      <th>CAMEO_DEU_2015_9E</th>\n",
       "      <th>DECADE</th>\n",
       "      <th>MOVEMENT</th>\n",
       "      <th>WEALTH</th>\n",
       "      <th>LIFE_STAGE</th>\n",
       "    </tr>\n",
       "  </thead>\n",
       "  <tbody>\n",
       "    <tr>\n",
       "      <th>1</th>\n",
       "      <td>1.0</td>\n",
       "      <td>2.0</td>\n",
       "      <td>1.0</td>\n",
       "      <td>5.0</td>\n",
       "      <td>2.0</td>\n",
       "      <td>5.0</td>\n",
       "      <td>4.0</td>\n",
       "      <td>5.0</td>\n",
       "      <td>0</td>\n",
       "      <td>3.0</td>\n",
       "      <td>...</td>\n",
       "      <td>0</td>\n",
       "      <td>0</td>\n",
       "      <td>0</td>\n",
       "      <td>0</td>\n",
       "      <td>0</td>\n",
       "      <td>0</td>\n",
       "      <td>6.0</td>\n",
       "      <td>1.0</td>\n",
       "      <td>5.0</td>\n",
       "      <td>1.0</td>\n",
       "    </tr>\n",
       "    <tr>\n",
       "      <th>2</th>\n",
       "      <td>3.0</td>\n",
       "      <td>2.0</td>\n",
       "      <td>1.0</td>\n",
       "      <td>4.0</td>\n",
       "      <td>1.0</td>\n",
       "      <td>2.0</td>\n",
       "      <td>3.0</td>\n",
       "      <td>5.0</td>\n",
       "      <td>1</td>\n",
       "      <td>3.0</td>\n",
       "      <td>...</td>\n",
       "      <td>0</td>\n",
       "      <td>0</td>\n",
       "      <td>0</td>\n",
       "      <td>0</td>\n",
       "      <td>0</td>\n",
       "      <td>0</td>\n",
       "      <td>6.0</td>\n",
       "      <td>0.0</td>\n",
       "      <td>2.0</td>\n",
       "      <td>4.0</td>\n",
       "    </tr>\n",
       "    <tr>\n",
       "      <th>3</th>\n",
       "      <td>4.0</td>\n",
       "      <td>2.0</td>\n",
       "      <td>4.0</td>\n",
       "      <td>2.0</td>\n",
       "      <td>5.0</td>\n",
       "      <td>2.0</td>\n",
       "      <td>1.0</td>\n",
       "      <td>2.0</td>\n",
       "      <td>0</td>\n",
       "      <td>2.0</td>\n",
       "      <td>...</td>\n",
       "      <td>0</td>\n",
       "      <td>0</td>\n",
       "      <td>0</td>\n",
       "      <td>0</td>\n",
       "      <td>0</td>\n",
       "      <td>0</td>\n",
       "      <td>4.0</td>\n",
       "      <td>1.0</td>\n",
       "      <td>1.0</td>\n",
       "      <td>2.0</td>\n",
       "    </tr>\n",
       "    <tr>\n",
       "      <th>4</th>\n",
       "      <td>3.0</td>\n",
       "      <td>1.0</td>\n",
       "      <td>4.0</td>\n",
       "      <td>3.0</td>\n",
       "      <td>4.0</td>\n",
       "      <td>1.0</td>\n",
       "      <td>3.0</td>\n",
       "      <td>2.0</td>\n",
       "      <td>0</td>\n",
       "      <td>3.0</td>\n",
       "      <td>...</td>\n",
       "      <td>0</td>\n",
       "      <td>0</td>\n",
       "      <td>0</td>\n",
       "      <td>0</td>\n",
       "      <td>0</td>\n",
       "      <td>0</td>\n",
       "      <td>4.0</td>\n",
       "      <td>1.0</td>\n",
       "      <td>4.0</td>\n",
       "      <td>3.0</td>\n",
       "    </tr>\n",
       "    <tr>\n",
       "      <th>5</th>\n",
       "      <td>1.0</td>\n",
       "      <td>2.0</td>\n",
       "      <td>3.0</td>\n",
       "      <td>1.0</td>\n",
       "      <td>5.0</td>\n",
       "      <td>2.0</td>\n",
       "      <td>2.0</td>\n",
       "      <td>5.0</td>\n",
       "      <td>0</td>\n",
       "      <td>3.0</td>\n",
       "      <td>...</td>\n",
       "      <td>0</td>\n",
       "      <td>0</td>\n",
       "      <td>0</td>\n",
       "      <td>0</td>\n",
       "      <td>0</td>\n",
       "      <td>0</td>\n",
       "      <td>2.0</td>\n",
       "      <td>1.0</td>\n",
       "      <td>5.0</td>\n",
       "      <td>4.0</td>\n",
       "    </tr>\n",
       "  </tbody>\n",
       "</table>\n",
       "<p>5 rows × 192 columns</p>\n",
       "</div>"
      ],
      "text/plain": [
       "   ALTERSKATEGORIE_GROB  ANREDE_KZ  FINANZ_MINIMALIST  FINANZ_SPARER  \\\n",
       "1                   1.0        2.0                1.0            5.0   \n",
       "2                   3.0        2.0                1.0            4.0   \n",
       "3                   4.0        2.0                4.0            2.0   \n",
       "4                   3.0        1.0                4.0            3.0   \n",
       "5                   1.0        2.0                3.0            1.0   \n",
       "\n",
       "   FINANZ_VORSORGER  FINANZ_ANLEGER  FINANZ_UNAUFFAELLIGER  FINANZ_HAUSBAUER  \\\n",
       "1               2.0             5.0                    4.0               5.0   \n",
       "2               1.0             2.0                    3.0               5.0   \n",
       "3               5.0             2.0                    1.0               2.0   \n",
       "4               4.0             1.0                    3.0               2.0   \n",
       "5               5.0             2.0                    2.0               5.0   \n",
       "\n",
       "   GREEN_AVANTGARDE  HEALTH_TYP     ...      CAMEO_DEU_2015_8D  \\\n",
       "1                 0         3.0     ...                      0   \n",
       "2                 1         3.0     ...                      0   \n",
       "3                 0         2.0     ...                      0   \n",
       "4                 0         3.0     ...                      0   \n",
       "5                 0         3.0     ...                      0   \n",
       "\n",
       "   CAMEO_DEU_2015_9A  CAMEO_DEU_2015_9B  CAMEO_DEU_2015_9C  CAMEO_DEU_2015_9D  \\\n",
       "1                  0                  0                  0                  0   \n",
       "2                  0                  0                  0                  0   \n",
       "3                  0                  0                  0                  0   \n",
       "4                  0                  0                  0                  0   \n",
       "5                  0                  0                  0                  0   \n",
       "\n",
       "   CAMEO_DEU_2015_9E  DECADE  MOVEMENT  WEALTH  LIFE_STAGE  \n",
       "1                  0     6.0       1.0     5.0         1.0  \n",
       "2                  0     6.0       0.0     2.0         4.0  \n",
       "3                  0     4.0       1.0     1.0         2.0  \n",
       "4                  0     4.0       1.0     4.0         3.0  \n",
       "5                  0     2.0       1.0     5.0         4.0  \n",
       "\n",
       "[5 rows x 192 columns]"
      ]
     },
     "execution_count": 22,
     "metadata": {},
     "output_type": "execute_result"
    }
   ],
   "source": [
    "# Do whatever you need to in order to ensure that the dataframe only contains\n",
    "# the columns that should be passed to the algorithm functions.\n",
    "\n",
    "mixed_features = feat_info[feat_info['type'] == 'mixed']['attribute']\n",
    "for feature in mixed_features:\n",
    "    missing_less_20.drop(feature, axis = 1, inplace = True)\n",
    "    \n",
    "missing_less_20.head()"
   ]
  },
  {
   "cell_type": "markdown",
   "metadata": {},
   "source": [
    "### Step 1.3: Create a Cleaning Function\n",
    "\n",
    "Even though you've finished cleaning up the general population demographics data, it's important to look ahead to the future and realize that you'll need to perform the same cleaning steps on the customer demographics data. In this substep, complete the function below to execute the main feature selection, encoding, and re-engineering steps you performed above. Then, when it comes to looking at the customer data in Step 3, you can just run this function on that DataFrame to get the trimmed dataset in a single step."
   ]
  },
  {
   "cell_type": "code",
   "execution_count": 23,
   "metadata": {},
   "outputs": [],
   "source": [
    "def clean_data(df, feat_info):\n",
    "    \"\"\"\n",
    "    Perform feature trimming, re-encoding, and engineering for demographics\n",
    "    data\n",
    "    \n",
    "    INPUT: Demographics DataFrame\n",
    "    OUTPUT: Trimmed and cleaned demographics DataFrame\n",
    "    \"\"\"\n",
    "    # Put in code here to execute all main cleaning steps:\n",
    "    # convert missing value codes into NaNs, ...\n",
    "    missing_values = missing_splited(feat_info[\"missing_or_unknown\"])\n",
    "    \n",
    "    for attribute,missing_values_list in zip(feat_info[\"attribute\"],missing_values):\n",
    "        if missing_values_list[0] != \"\": # if the list not empty \n",
    "            for missing_value in missing_values_list:\n",
    "                #check if the missing value is number (negative or positive numbers)\n",
    "                if missing_value.isnumeric() or missing_value.lstrip('-').isnumeric():\n",
    "                    missing_value = int(missing_value)\n",
    "\n",
    "                df.loc[df[attribute] == missing_value, attribute] = np.nan\n",
    "\n",
    "    # remove selected columns and rows, ...\n",
    "    columns=['ALTER_HH', 'GEBURTSJAHR', 'KBA05_BAUMAX', 'KK_KUNDENTYP', 'AGER_TYP','TITEL_KZ']\n",
    "    df.drop(columns = columns, axis='columns', inplace = True)\n",
    "\n",
    "    num_null_rows = df.isnull().sum(axis=1)\n",
    "    missing_less_20 = df[num_null_rows < 20]\n",
    "    missing_above_20 = df[num_null_rows >= 20]\n",
    "    missing_less_20 = missing_less_20.fillna(missing_less_20.mode().iloc[0])\n",
    "    \n",
    "    # select, re-encode, and engineer column values.\n",
    "    feat_info = feat_info[feat_info.attribute.isin(missing_less_20.columns)]\n",
    "    cat_variables = feat_info[feat_info['type'] == 'categorical']\n",
    "    \n",
    "    binary_cat = []\n",
    "    multi_cat = []\n",
    "\n",
    "    for col in cat_variables.attribute:\n",
    "        if missing_less_20[col].nunique() == 2:\n",
    "            binary_cat.append(col)\n",
    "        else:\n",
    "            multi_cat.append(col)\n",
    "    \n",
    "    missing_less_20['OST_WEST_KZ'].replace({'W':0,'O':1}, inplace = True)\n",
    "    missing_less_20 = pd.get_dummies(data = missing_less_20, columns=multi_cat)\n",
    "    \n",
    "    decade_dict = {1:1, 2:1, 3:2, 4:2, 5:3, 6:3, 7:3, 8:4, 9:4, 10:5, 11:5, 12:5, 13:5, 14:6, 15:6}\n",
    "    movement_dict = {1:1, 2:0, 3:1, 4:0, 5:1, 6:0, 7:0, 8:1, 9:0, 10:1, 11:0, 12:1, 13:0, 14:1, 15:0}\n",
    "\n",
    "    missing_less_20['DECADE'] = missing_less_20['PRAEGENDE_JUGENDJAHRE']\n",
    "    missing_less_20['MOVEMENT'] = missing_less_20['PRAEGENDE_JUGENDJAHRE']\n",
    "\n",
    "    missing_less_20['DECADE'].replace(decade_dict, inplace = True)\n",
    "    missing_less_20['MOVEMENT'].replace(movement_dict, inplace = True)\n",
    "\n",
    "    wealth_dict = {'11':1, '12':1, '13':1, '14':1, '15':1, '21':2, '22':2, '23':2, '24':2, '25':2,\n",
    "               '31':3, '32':3, '33':3, '34':3, '35':3, '41':4, '42':4, '43':4, '44':4, '45':4,\n",
    "               '51':5, '52':5, '53':5, '54':5, '55':5}\n",
    "    life_stage_dict = {'11':1, '12':2, '13':3, '14':4, '15':5, '21':1, '22':2, '23':3, '24':4, '25':5,\n",
    "                      '31':1, '32':2, '33':3, '34':4, '35':5, '41':1, '42':2, '43':3, '44':4, '45':5,\n",
    "                      '51':1, '52':2, '53':3, '54':4, '55':5}\n",
    "\n",
    "    missing_less_20['WEALTH'] = missing_less_20['CAMEO_INTL_2015']\n",
    "    missing_less_20['LIFE_STAGE'] = missing_less_20['CAMEO_INTL_2015']\n",
    "\n",
    "    missing_less_20['WEALTH'].replace(wealth_dict, inplace = True)\n",
    "    missing_less_20['LIFE_STAGE'].replace(life_stage_dict, inplace = True)\n",
    "\n",
    "    mixed_var = feat_info[feat_info['type'] == 'mixed']\n",
    "    for mixed_feature in mixed_var['attribute']:\n",
    "        if mixed_feature in missing_less_20.columns:\n",
    "            missing_less_20.drop(mixed_feature, axis=1, inplace=True)\n",
    "\n",
    "    # Return the cleaned dataframe.\n",
    "    return missing_less_20"
   ]
  },
  {
   "cell_type": "code",
   "execution_count": 24,
   "metadata": {},
   "outputs": [
    {
     "data": {
      "text/html": [
       "<div>\n",
       "<style scoped>\n",
       "    .dataframe tbody tr th:only-of-type {\n",
       "        vertical-align: middle;\n",
       "    }\n",
       "\n",
       "    .dataframe tbody tr th {\n",
       "        vertical-align: top;\n",
       "    }\n",
       "\n",
       "    .dataframe thead th {\n",
       "        text-align: right;\n",
       "    }\n",
       "</style>\n",
       "<table border=\"1\" class=\"dataframe\">\n",
       "  <thead>\n",
       "    <tr style=\"text-align: right;\">\n",
       "      <th></th>\n",
       "      <th>ALTERSKATEGORIE_GROB</th>\n",
       "      <th>ANREDE_KZ</th>\n",
       "      <th>FINANZ_MINIMALIST</th>\n",
       "      <th>FINANZ_SPARER</th>\n",
       "      <th>FINANZ_VORSORGER</th>\n",
       "      <th>FINANZ_ANLEGER</th>\n",
       "      <th>FINANZ_UNAUFFAELLIGER</th>\n",
       "      <th>FINANZ_HAUSBAUER</th>\n",
       "      <th>GREEN_AVANTGARDE</th>\n",
       "      <th>HEALTH_TYP</th>\n",
       "      <th>...</th>\n",
       "      <th>CAMEO_DEU_2015_8D</th>\n",
       "      <th>CAMEO_DEU_2015_9A</th>\n",
       "      <th>CAMEO_DEU_2015_9B</th>\n",
       "      <th>CAMEO_DEU_2015_9C</th>\n",
       "      <th>CAMEO_DEU_2015_9D</th>\n",
       "      <th>CAMEO_DEU_2015_9E</th>\n",
       "      <th>DECADE</th>\n",
       "      <th>MOVEMENT</th>\n",
       "      <th>WEALTH</th>\n",
       "      <th>LIFE_STAGE</th>\n",
       "    </tr>\n",
       "  </thead>\n",
       "  <tbody>\n",
       "    <tr>\n",
       "      <th>1</th>\n",
       "      <td>1.0</td>\n",
       "      <td>2.0</td>\n",
       "      <td>1.0</td>\n",
       "      <td>5.0</td>\n",
       "      <td>2.0</td>\n",
       "      <td>5.0</td>\n",
       "      <td>4.0</td>\n",
       "      <td>5.0</td>\n",
       "      <td>0</td>\n",
       "      <td>3.0</td>\n",
       "      <td>...</td>\n",
       "      <td>0</td>\n",
       "      <td>0</td>\n",
       "      <td>0</td>\n",
       "      <td>0</td>\n",
       "      <td>0</td>\n",
       "      <td>0</td>\n",
       "      <td>6.0</td>\n",
       "      <td>1.0</td>\n",
       "      <td>5</td>\n",
       "      <td>1</td>\n",
       "    </tr>\n",
       "    <tr>\n",
       "      <th>2</th>\n",
       "      <td>3.0</td>\n",
       "      <td>2.0</td>\n",
       "      <td>1.0</td>\n",
       "      <td>4.0</td>\n",
       "      <td>1.0</td>\n",
       "      <td>2.0</td>\n",
       "      <td>3.0</td>\n",
       "      <td>5.0</td>\n",
       "      <td>1</td>\n",
       "      <td>3.0</td>\n",
       "      <td>...</td>\n",
       "      <td>0</td>\n",
       "      <td>0</td>\n",
       "      <td>0</td>\n",
       "      <td>0</td>\n",
       "      <td>0</td>\n",
       "      <td>0</td>\n",
       "      <td>6.0</td>\n",
       "      <td>0.0</td>\n",
       "      <td>2</td>\n",
       "      <td>4</td>\n",
       "    </tr>\n",
       "    <tr>\n",
       "      <th>3</th>\n",
       "      <td>4.0</td>\n",
       "      <td>2.0</td>\n",
       "      <td>4.0</td>\n",
       "      <td>2.0</td>\n",
       "      <td>5.0</td>\n",
       "      <td>2.0</td>\n",
       "      <td>1.0</td>\n",
       "      <td>2.0</td>\n",
       "      <td>0</td>\n",
       "      <td>2.0</td>\n",
       "      <td>...</td>\n",
       "      <td>0</td>\n",
       "      <td>0</td>\n",
       "      <td>0</td>\n",
       "      <td>0</td>\n",
       "      <td>0</td>\n",
       "      <td>0</td>\n",
       "      <td>4.0</td>\n",
       "      <td>1.0</td>\n",
       "      <td>1</td>\n",
       "      <td>2</td>\n",
       "    </tr>\n",
       "    <tr>\n",
       "      <th>4</th>\n",
       "      <td>3.0</td>\n",
       "      <td>1.0</td>\n",
       "      <td>4.0</td>\n",
       "      <td>3.0</td>\n",
       "      <td>4.0</td>\n",
       "      <td>1.0</td>\n",
       "      <td>3.0</td>\n",
       "      <td>2.0</td>\n",
       "      <td>0</td>\n",
       "      <td>3.0</td>\n",
       "      <td>...</td>\n",
       "      <td>0</td>\n",
       "      <td>0</td>\n",
       "      <td>0</td>\n",
       "      <td>0</td>\n",
       "      <td>0</td>\n",
       "      <td>0</td>\n",
       "      <td>4.0</td>\n",
       "      <td>1.0</td>\n",
       "      <td>4</td>\n",
       "      <td>3</td>\n",
       "    </tr>\n",
       "    <tr>\n",
       "      <th>5</th>\n",
       "      <td>1.0</td>\n",
       "      <td>2.0</td>\n",
       "      <td>3.0</td>\n",
       "      <td>1.0</td>\n",
       "      <td>5.0</td>\n",
       "      <td>2.0</td>\n",
       "      <td>2.0</td>\n",
       "      <td>5.0</td>\n",
       "      <td>0</td>\n",
       "      <td>3.0</td>\n",
       "      <td>...</td>\n",
       "      <td>0</td>\n",
       "      <td>0</td>\n",
       "      <td>0</td>\n",
       "      <td>0</td>\n",
       "      <td>0</td>\n",
       "      <td>0</td>\n",
       "      <td>2.0</td>\n",
       "      <td>1.0</td>\n",
       "      <td>5</td>\n",
       "      <td>4</td>\n",
       "    </tr>\n",
       "  </tbody>\n",
       "</table>\n",
       "<p>5 rows × 192 columns</p>\n",
       "</div>"
      ],
      "text/plain": [
       "   ALTERSKATEGORIE_GROB  ANREDE_KZ  FINANZ_MINIMALIST  FINANZ_SPARER  \\\n",
       "1                   1.0        2.0                1.0            5.0   \n",
       "2                   3.0        2.0                1.0            4.0   \n",
       "3                   4.0        2.0                4.0            2.0   \n",
       "4                   3.0        1.0                4.0            3.0   \n",
       "5                   1.0        2.0                3.0            1.0   \n",
       "\n",
       "   FINANZ_VORSORGER  FINANZ_ANLEGER  FINANZ_UNAUFFAELLIGER  FINANZ_HAUSBAUER  \\\n",
       "1               2.0             5.0                    4.0               5.0   \n",
       "2               1.0             2.0                    3.0               5.0   \n",
       "3               5.0             2.0                    1.0               2.0   \n",
       "4               4.0             1.0                    3.0               2.0   \n",
       "5               5.0             2.0                    2.0               5.0   \n",
       "\n",
       "   GREEN_AVANTGARDE  HEALTH_TYP     ...      CAMEO_DEU_2015_8D  \\\n",
       "1                 0         3.0     ...                      0   \n",
       "2                 1         3.0     ...                      0   \n",
       "3                 0         2.0     ...                      0   \n",
       "4                 0         3.0     ...                      0   \n",
       "5                 0         3.0     ...                      0   \n",
       "\n",
       "   CAMEO_DEU_2015_9A  CAMEO_DEU_2015_9B  CAMEO_DEU_2015_9C  CAMEO_DEU_2015_9D  \\\n",
       "1                  0                  0                  0                  0   \n",
       "2                  0                  0                  0                  0   \n",
       "3                  0                  0                  0                  0   \n",
       "4                  0                  0                  0                  0   \n",
       "5                  0                  0                  0                  0   \n",
       "\n",
       "   CAMEO_DEU_2015_9E  DECADE  MOVEMENT  WEALTH  LIFE_STAGE  \n",
       "1                  0     6.0       1.0       5           1  \n",
       "2                  0     6.0       0.0       2           4  \n",
       "3                  0     4.0       1.0       1           2  \n",
       "4                  0     4.0       1.0       4           3  \n",
       "5                  0     2.0       1.0       5           4  \n",
       "\n",
       "[5 rows x 192 columns]"
      ]
     },
     "execution_count": 24,
     "metadata": {},
     "output_type": "execute_result"
    }
   ],
   "source": [
    "azdias_test_df = pd.read_csv('Udacity_AZDIAS_Subset.csv', sep=';')\n",
    "azdias_test_df = clean_data(azdias_test_df, feat_info)\n",
    "\n",
    "azdias_test_df.head()"
   ]
  },
  {
   "cell_type": "markdown",
   "metadata": {},
   "source": [
    "## Step 2: Feature Transformation\n",
    "\n",
    "### Step 2.1: Apply Feature Scaling\n",
    "\n",
    "Before we apply dimensionality reduction techniques to the data, we need to perform feature scaling so that the principal component vectors are not influenced by the natural differences in scale for features. Starting from this part of the project, you'll want to keep an eye on the [API reference page for sklearn](http://scikit-learn.org/stable/modules/classes.html) to help you navigate to all of the classes and functions that you'll need. In this substep, you'll need to check the following:\n",
    "\n",
    "- sklearn requires that data not have missing values in order for its estimators to work properly. So, before applying the scaler to your data, make sure that you've cleaned the DataFrame of the remaining missing values. This can be as simple as just removing all data points with missing data, or applying an [Imputer](https://scikit-learn.org/0.16/modules/generated/sklearn.preprocessing.Imputer.html) to replace all missing values. You might also try a more complicated procedure where you temporarily remove missing values in order to compute the scaling parameters before re-introducing those missing values and applying imputation. Think about how much missing data you have and what possible effects each approach might have on your analysis, and justify your decision in the discussion section below.\n",
    "- For the actual scaling function, a [StandardScaler](http://scikit-learn.org/stable/modules/generated/sklearn.preprocessing.StandardScaler.html) instance is suggested, scaling each feature to mean 0 and standard deviation 1.\n",
    "- For these classes, you can make use of the `.fit_transform()` method to both fit a procedure to the data as well as apply the transformation to the data at the same time. Don't forget to keep the fit sklearn objects handy, since you'll be applying them to the customer demographics data towards the end of the project."
   ]
  },
  {
   "cell_type": "code",
   "execution_count": 25,
   "metadata": {},
   "outputs": [
    {
     "name": "stdout",
     "output_type": "stream",
     "text": [
      "745996\n"
     ]
    },
    {
     "data": {
      "text/plain": [
       "0"
      ]
     },
     "execution_count": 25,
     "metadata": {},
     "output_type": "execute_result"
    }
   ],
   "source": [
    "# If you've not yet cleaned the dataset of all NaN values, then investigate and\n",
    "# do that now.\n",
    "\n",
    "from sklearn.preprocessing import Imputer\n",
    "#from sklearn.impute import SimpleImputer\n",
    "\n",
    "print(missing_less_20.isnull().sum().sum())\n",
    "\n",
    "#fill_missing = SimpleImputer(strategy='most_frequent')\n",
    "fill_missing = Imputer(strategy='most_frequent')\n",
    "missing_less_20_imputed = pd.DataFrame(fill_missing.fit_transform(missing_less_20))\n",
    "missing_less_20_imputed.columns = missing_less_20.columns\n",
    "missing_less_20_imputed.index = missing_less_20.index\n",
    "\n",
    "missing_less_20_imputed.isnull().sum().sum()"
   ]
  },
  {
   "cell_type": "code",
   "execution_count": 26,
   "metadata": {},
   "outputs": [
    {
     "data": {
      "text/html": [
       "<div>\n",
       "<style scoped>\n",
       "    .dataframe tbody tr th:only-of-type {\n",
       "        vertical-align: middle;\n",
       "    }\n",
       "\n",
       "    .dataframe tbody tr th {\n",
       "        vertical-align: top;\n",
       "    }\n",
       "\n",
       "    .dataframe thead th {\n",
       "        text-align: right;\n",
       "    }\n",
       "</style>\n",
       "<table border=\"1\" class=\"dataframe\">\n",
       "  <thead>\n",
       "    <tr style=\"text-align: right;\">\n",
       "      <th></th>\n",
       "      <th>ALTERSKATEGORIE_GROB</th>\n",
       "      <th>ANREDE_KZ</th>\n",
       "      <th>FINANZ_MINIMALIST</th>\n",
       "      <th>FINANZ_SPARER</th>\n",
       "      <th>FINANZ_VORSORGER</th>\n",
       "      <th>FINANZ_ANLEGER</th>\n",
       "      <th>FINANZ_UNAUFFAELLIGER</th>\n",
       "      <th>FINANZ_HAUSBAUER</th>\n",
       "      <th>GREEN_AVANTGARDE</th>\n",
       "      <th>HEALTH_TYP</th>\n",
       "      <th>...</th>\n",
       "      <th>CAMEO_DEU_2015_8D</th>\n",
       "      <th>CAMEO_DEU_2015_9A</th>\n",
       "      <th>CAMEO_DEU_2015_9B</th>\n",
       "      <th>CAMEO_DEU_2015_9C</th>\n",
       "      <th>CAMEO_DEU_2015_9D</th>\n",
       "      <th>CAMEO_DEU_2015_9E</th>\n",
       "      <th>DECADE</th>\n",
       "      <th>MOVEMENT</th>\n",
       "      <th>WEALTH</th>\n",
       "      <th>LIFE_STAGE</th>\n",
       "    </tr>\n",
       "  </thead>\n",
       "  <tbody>\n",
       "    <tr>\n",
       "      <th>0</th>\n",
       "      <td>-1.766173</td>\n",
       "      <td>0.958121</td>\n",
       "      <td>-1.494463</td>\n",
       "      <td>1.538139</td>\n",
       "      <td>-1.040664</td>\n",
       "      <td>1.466401</td>\n",
       "      <td>0.959974</td>\n",
       "      <td>1.338532</td>\n",
       "      <td>-0.530654</td>\n",
       "      <td>1.010291</td>\n",
       "      <td>...</td>\n",
       "      <td>-0.150111</td>\n",
       "      <td>-0.162625</td>\n",
       "      <td>-0.189607</td>\n",
       "      <td>-0.179893</td>\n",
       "      <td>-0.192884</td>\n",
       "      <td>-0.089706</td>\n",
       "      <td>1.098802</td>\n",
       "      <td>0.530654</td>\n",
       "      <td>1.175857</td>\n",
       "      <td>-1.249369</td>\n",
       "    </tr>\n",
       "    <tr>\n",
       "      <th>1</th>\n",
       "      <td>0.200733</td>\n",
       "      <td>0.958121</td>\n",
       "      <td>-1.494463</td>\n",
       "      <td>0.864753</td>\n",
       "      <td>-1.766903</td>\n",
       "      <td>-0.570914</td>\n",
       "      <td>0.245238</td>\n",
       "      <td>1.338532</td>\n",
       "      <td>1.884467</td>\n",
       "      <td>1.010291</td>\n",
       "      <td>...</td>\n",
       "      <td>-0.150111</td>\n",
       "      <td>-0.162625</td>\n",
       "      <td>-0.189607</td>\n",
       "      <td>-0.179893</td>\n",
       "      <td>-0.192884</td>\n",
       "      <td>-0.089706</td>\n",
       "      <td>1.098802</td>\n",
       "      <td>-1.884467</td>\n",
       "      <td>-0.869590</td>\n",
       "      <td>0.766691</td>\n",
       "    </tr>\n",
       "    <tr>\n",
       "      <th>2</th>\n",
       "      <td>1.184186</td>\n",
       "      <td>0.958121</td>\n",
       "      <td>0.683285</td>\n",
       "      <td>-0.482020</td>\n",
       "      <td>1.138052</td>\n",
       "      <td>-0.570914</td>\n",
       "      <td>-1.184235</td>\n",
       "      <td>-0.792444</td>\n",
       "      <td>-0.530654</td>\n",
       "      <td>-0.311793</td>\n",
       "      <td>...</td>\n",
       "      <td>-0.150111</td>\n",
       "      <td>-0.162625</td>\n",
       "      <td>-0.189607</td>\n",
       "      <td>-0.179893</td>\n",
       "      <td>-0.192884</td>\n",
       "      <td>-0.089706</td>\n",
       "      <td>-0.267171</td>\n",
       "      <td>0.530654</td>\n",
       "      <td>-1.551406</td>\n",
       "      <td>-0.577349</td>\n",
       "    </tr>\n",
       "    <tr>\n",
       "      <th>3</th>\n",
       "      <td>0.200733</td>\n",
       "      <td>-1.043709</td>\n",
       "      <td>0.683285</td>\n",
       "      <td>0.191366</td>\n",
       "      <td>0.411813</td>\n",
       "      <td>-1.250019</td>\n",
       "      <td>0.245238</td>\n",
       "      <td>-0.792444</td>\n",
       "      <td>-0.530654</td>\n",
       "      <td>1.010291</td>\n",
       "      <td>...</td>\n",
       "      <td>-0.150111</td>\n",
       "      <td>-0.162625</td>\n",
       "      <td>-0.189607</td>\n",
       "      <td>-0.179893</td>\n",
       "      <td>-0.192884</td>\n",
       "      <td>-0.089706</td>\n",
       "      <td>-0.267171</td>\n",
       "      <td>0.530654</td>\n",
       "      <td>0.494041</td>\n",
       "      <td>0.094671</td>\n",
       "    </tr>\n",
       "    <tr>\n",
       "      <th>4</th>\n",
       "      <td>-1.766173</td>\n",
       "      <td>0.958121</td>\n",
       "      <td>-0.042631</td>\n",
       "      <td>-1.155407</td>\n",
       "      <td>1.138052</td>\n",
       "      <td>-0.570914</td>\n",
       "      <td>-0.469499</td>\n",
       "      <td>1.338532</td>\n",
       "      <td>-0.530654</td>\n",
       "      <td>1.010291</td>\n",
       "      <td>...</td>\n",
       "      <td>-0.150111</td>\n",
       "      <td>-0.162625</td>\n",
       "      <td>-0.189607</td>\n",
       "      <td>-0.179893</td>\n",
       "      <td>-0.192884</td>\n",
       "      <td>-0.089706</td>\n",
       "      <td>-1.633144</td>\n",
       "      <td>0.530654</td>\n",
       "      <td>1.175857</td>\n",
       "      <td>0.766691</td>\n",
       "    </tr>\n",
       "  </tbody>\n",
       "</table>\n",
       "<p>5 rows × 192 columns</p>\n",
       "</div>"
      ],
      "text/plain": [
       "   ALTERSKATEGORIE_GROB  ANREDE_KZ  FINANZ_MINIMALIST  FINANZ_SPARER  \\\n",
       "0             -1.766173   0.958121          -1.494463       1.538139   \n",
       "1              0.200733   0.958121          -1.494463       0.864753   \n",
       "2              1.184186   0.958121           0.683285      -0.482020   \n",
       "3              0.200733  -1.043709           0.683285       0.191366   \n",
       "4             -1.766173   0.958121          -0.042631      -1.155407   \n",
       "\n",
       "   FINANZ_VORSORGER  FINANZ_ANLEGER  FINANZ_UNAUFFAELLIGER  FINANZ_HAUSBAUER  \\\n",
       "0         -1.040664        1.466401               0.959974          1.338532   \n",
       "1         -1.766903       -0.570914               0.245238          1.338532   \n",
       "2          1.138052       -0.570914              -1.184235         -0.792444   \n",
       "3          0.411813       -1.250019               0.245238         -0.792444   \n",
       "4          1.138052       -0.570914              -0.469499          1.338532   \n",
       "\n",
       "   GREEN_AVANTGARDE  HEALTH_TYP     ...      CAMEO_DEU_2015_8D  \\\n",
       "0         -0.530654    1.010291     ...              -0.150111   \n",
       "1          1.884467    1.010291     ...              -0.150111   \n",
       "2         -0.530654   -0.311793     ...              -0.150111   \n",
       "3         -0.530654    1.010291     ...              -0.150111   \n",
       "4         -0.530654    1.010291     ...              -0.150111   \n",
       "\n",
       "   CAMEO_DEU_2015_9A  CAMEO_DEU_2015_9B  CAMEO_DEU_2015_9C  CAMEO_DEU_2015_9D  \\\n",
       "0          -0.162625          -0.189607          -0.179893          -0.192884   \n",
       "1          -0.162625          -0.189607          -0.179893          -0.192884   \n",
       "2          -0.162625          -0.189607          -0.179893          -0.192884   \n",
       "3          -0.162625          -0.189607          -0.179893          -0.192884   \n",
       "4          -0.162625          -0.189607          -0.179893          -0.192884   \n",
       "\n",
       "   CAMEO_DEU_2015_9E    DECADE  MOVEMENT    WEALTH  LIFE_STAGE  \n",
       "0          -0.089706  1.098802  0.530654  1.175857   -1.249369  \n",
       "1          -0.089706  1.098802 -1.884467 -0.869590    0.766691  \n",
       "2          -0.089706 -0.267171  0.530654 -1.551406   -0.577349  \n",
       "3          -0.089706 -0.267171  0.530654  0.494041    0.094671  \n",
       "4          -0.089706 -1.633144  0.530654  1.175857    0.766691  \n",
       "\n",
       "[5 rows x 192 columns]"
      ]
     },
     "execution_count": 26,
     "metadata": {},
     "output_type": "execute_result"
    }
   ],
   "source": [
    "# Apply feature scaling to the general population demographics data.\n",
    "\n",
    "from sklearn.preprocessing import StandardScaler\n",
    "\n",
    "scaler = StandardScaler()\n",
    "scaled_feat = scaler.fit_transform(missing_less_20_imputed)\n",
    "\n",
    "scaled_feat = pd.DataFrame(scaled_feat, columns = missing_less_20_imputed.columns.tolist())\n",
    "scaled_feat.head()"
   ]
  },
  {
   "cell_type": "markdown",
   "metadata": {},
   "source": [
    "### Discussion 2.1: Apply Feature Scaling\n",
    "\n",
    "(Double-click this cell and replace this text with your own text, reporting your decisions regarding feature scaling.)\n",
    "\n",
    "1. Performed imputation by replacing missing values with the most frequent value in that column \n",
    "2. Features are scaled using the StandardScaler."
   ]
  },
  {
   "cell_type": "markdown",
   "metadata": {},
   "source": [
    "### Step 2.2: Perform Dimensionality Reduction\n",
    "\n",
    "On your scaled data, you are now ready to apply dimensionality reduction techniques.\n",
    "\n",
    "- Use sklearn's [PCA](http://scikit-learn.org/stable/modules/generated/sklearn.decomposition.PCA.html) class to apply principal component analysis on the data, thus finding the vectors of maximal variance in the data. To start, you should not set any parameters (so all components are computed) or set a number of components that is at least half the number of features (so there's enough features to see the general trend in variability).\n",
    "- Check out the ratio of variance explained by each principal component as well as the cumulative variance explained. Try plotting the cumulative or sequential values using matplotlib's [`plot()`](https://matplotlib.org/api/_as_gen/matplotlib.pyplot.plot.html) function. Based on what you find, select a value for the number of transformed features you'll retain for the clustering part of the project.\n",
    "- Once you've made a choice for the number of components to keep, make sure you re-fit a PCA instance to perform the decided-on transformation."
   ]
  },
  {
   "cell_type": "code",
   "execution_count": 27,
   "metadata": {},
   "outputs": [
    {
     "data": {
      "text/plain": [
       "PCA(copy=True, iterated_power='auto', n_components=None, random_state=None,\n",
       "  svd_solver='auto', tol=0.0, whiten=False)"
      ]
     },
     "execution_count": 27,
     "metadata": {},
     "output_type": "execute_result"
    }
   ],
   "source": [
    "# Apply PCA to the data.\n",
    "\n",
    "from sklearn.decomposition import PCA\n",
    "\n",
    "pca = PCA()\n",
    "pca.fit(scaled_feat)"
   ]
  },
  {
   "cell_type": "code",
   "execution_count": 28,
   "metadata": {},
   "outputs": [
    {
     "data": {
      "image/png": "[encoded data removed]",
      "text/plain": [
       "<matplotlib.figure.Figure at 0x7f9b404cf128>"
      ]
     },
     "metadata": {
      "needs_background": "light"
     },
     "output_type": "display_data"
    }
   ],
   "source": [
    "# Investigate the variance accounted for by each principal component.\n",
    "\n",
    "num_components = np.arange(len(pca.explained_variance_ratio_))\n",
    "values = pca.explained_variance_ratio_\n",
    "\n",
    "plt.bar(num_components, values)\n",
    "plt.xlabel(\"Principal Component\")\n",
    "plt.ylabel(\"Explained Variance\")\n",
    "plt.title(\"Explained Variance Per Principal Component\")\n",
    "plt.show()"
   ]
  },
  {
   "cell_type": "code",
   "execution_count": 29,
   "metadata": {},
   "outputs": [
    {
     "data": {
      "image/png": "[encoded data removed]",
      "text/plain": [
       "<matplotlib.figure.Figure at 0x7f9b2de8f5c0>"
      ]
     },
     "metadata": {
      "needs_background": "light"
     },
     "output_type": "display_data"
    }
   ],
   "source": [
    "cum_vals = np.cumsum(values)\n",
    "\n",
    "plt.plot(num_components, cum_vals)\n",
    "plt.xlabel(\"Principal Component\")\n",
    "plt.ylabel(\"Cumulative Explained Variance\")\n",
    "plt.title(\"Cumulative Explained Variance Per Principal Component\")\n",
    "plt.show()"
   ]
  },
  {
   "cell_type": "code",
   "execution_count": 30,
   "metadata": {},
   "outputs": [],
   "source": [
    "# Re-apply PCA to the data while selecting for number of components to retain.\n",
    "\n",
    "pca_100 = PCA(n_components = 100)\n",
    "PCA_data = pca_100.fit_transform(scaled_feat)"
   ]
  },
  {
   "cell_type": "markdown",
   "metadata": {},
   "source": [
    "### Discussion 2.2: Perform Dimensionality Reduction\n",
    "\n",
    "(Double-click this cell and replace this text with your own text, reporting your findings and decisions regarding dimensionality reduction. How many principal components / transformed features are you retaining for the next step of the analysis?)\n",
    "\n",
    "Will be retaining 100 components as that will get a cumulative variance of above 80% of the actual data."
   ]
  },
  {
   "cell_type": "markdown",
   "metadata": {},
   "source": [
    "### Step 2.3: Interpret Principal Components\n",
    "\n",
    "Now that we have our transformed principal components, it's a nice idea to check out the weight of each variable on the first few components to see if they can be interpreted in some fashion.\n",
    "\n",
    "As a reminder, each principal component is a unit vector that points in the direction of highest variance (after accounting for the variance captured by earlier principal components). The further a weight is from zero, the more the principal component is in the direction of the corresponding feature. If two features have large weights of the same sign (both positive or both negative), then increases in one tend expect to be associated with increases in the other. To contrast, features with different signs can be expected to show a negative correlation: increases in one variable should result in a decrease in the other.\n",
    "\n",
    "- To investigate the features, you should map each weight to their corresponding feature name, then sort the features according to weight. The most interesting features for each principal component, then, will be those at the beginning and end of the sorted list. Use the data dictionary document to help you understand these most prominent features, their relationships, and what a positive or negative value on the principal component might indicate.\n",
    "- You should investigate and interpret feature associations from the first three principal components in this substep. To help facilitate this, you should write a function that you can call at any time to print the sorted list of feature weights, for the *i*-th principal component. This might come in handy in the next step of the project, when you interpret the tendencies of the discovered clusters."
   ]
  },
  {
   "cell_type": "code",
   "execution_count": 31,
   "metadata": {},
   "outputs": [
    {
     "data": {
      "text/plain": [
       "LP_STATUS_GROB_1.0      0.197340\n",
       "HH_EINKOMMEN_SCORE      0.186400\n",
       "WEALTH                  0.184917\n",
       "PLZ8_ANTG3              0.181302\n",
       "PLZ8_ANTG4              0.175000\n",
       "ORTSGR_KLS9             0.154475\n",
       "EWDICHTE                0.152904\n",
       "FINANZ_HAUSBAUER        0.148446\n",
       "KBA05_ANTG4             0.129429\n",
       "LP_STATUS_FEIN_1.0      0.126242\n",
       "PLZ8_ANTG2              0.124806\n",
       "FINANZ_SPARER           0.120898\n",
       "LP_STATUS_FEIN_2.0      0.119255\n",
       "KBA05_ANTG3             0.117720\n",
       "FINANZTYP_1.0           0.117630\n",
       "ANZ_HAUSHALTE_AKTIV     0.116215\n",
       "CAMEO_DEUG_2015_9       0.114560\n",
       "ARBEIT                  0.113349\n",
       "RELAT_AB                0.107430\n",
       "MOVEMENT                0.106255\n",
       "CAMEO_DEUG_2015_8       0.092533\n",
       "SEMIO_PFLICHT           0.088758\n",
       "LP_FAMILIE_GROB_1.0     0.086980\n",
       "LP_FAMILIE_FEIN_1.0     0.086980\n",
       "SEMIO_REL               0.084208\n",
       "DECADE                  0.083515\n",
       "ZABEOTYP_5.0            0.078624\n",
       "SEMIO_RAT               0.073843\n",
       "GEBAEUDETYP_3.0         0.067737\n",
       "CAMEO_DEU_2015_8A       0.064075\n",
       "                          ...   \n",
       "WOHNDAUER_2008         -0.053443\n",
       "SEMIO_LUST             -0.053829\n",
       "KBA13_ANZAHL_PKW       -0.058313\n",
       "LP_FAMILIE_GROB_5.0    -0.065403\n",
       "CAMEO_DEUG_2015_3      -0.065716\n",
       "NATIONALITAET_KZ_1.0   -0.069407\n",
       "CAMEO_DEUG_2015_4      -0.072430\n",
       "FINANZTYP_2.0          -0.080518\n",
       "ANZ_PERSONEN           -0.083509\n",
       "GEBAEUDETYP_1.0        -0.089062\n",
       "FINANZ_VORSORGER       -0.089097\n",
       "CAMEO_DEUG_2015_2      -0.089117\n",
       "ALTERSKATEGORIE_GROB   -0.089213\n",
       "BALLRAUM               -0.096293\n",
       "ZABEOTYP_1.0           -0.096397\n",
       "GEBAEUDETYP_RASTER     -0.097306\n",
       "GREEN_AVANTGARDE       -0.106255\n",
       "LP_STATUS_FEIN_9.0     -0.110074\n",
       "LIFE_STAGE             -0.111285\n",
       "LP_STATUS_GROB_4.0     -0.111830\n",
       "LP_STATUS_FEIN_10.0    -0.116305\n",
       "LP_STATUS_GROB_5.0     -0.116305\n",
       "INNENSTADT             -0.127294\n",
       "PLZ8_GBZ               -0.132614\n",
       "KONSUMNAEHE            -0.136368\n",
       "KBA05_ANTG1            -0.180855\n",
       "KBA05_GBZ              -0.181257\n",
       "PLZ8_ANTG1             -0.182537\n",
       "MOBI_REGIO             -0.188279\n",
       "FINANZ_MINIMALIST      -0.195234\n",
       "Name: 0, Length: 192, dtype: float64"
      ]
     },
     "execution_count": 31,
     "metadata": {},
     "output_type": "execute_result"
    }
   ],
   "source": [
    "# Map weights for the first principal component to corresponding feature names\n",
    "# and then print the linked values, sorted by weight.\n",
    "# HINT: Try defining a function here or in a new cell that you can reuse in the\n",
    "# other cells.\n",
    "\n",
    "def PCA_weights(df, pca, n):\n",
    "    weights_df = pd.DataFrame(pca.components_, columns = list(df.columns)).iloc[n]\n",
    "    weights_df.sort_values(ascending = False, inplace = True)\n",
    "    return weights_df\n",
    "\n",
    "PCA_weights(scaled_feat, pca_100, 0)"
   ]
  },
  {
   "cell_type": "code",
   "execution_count": 32,
   "metadata": {},
   "outputs": [
    {
     "data": {
      "text/plain": [
       "ALTERSKATEGORIE_GROB     0.231214\n",
       "FINANZ_VORSORGER         0.217119\n",
       "ZABEOTYP_3.0             0.200292\n",
       "SEMIO_ERL                0.179682\n",
       "SEMIO_LUST               0.161965\n",
       "RETOURTYP_BK_S           0.154991\n",
       "W_KEIT_KIND_HH           0.123444\n",
       "CJT_GESAMTTYP_2.0        0.107504\n",
       "LP_STATUS_FEIN_1.0       0.101275\n",
       "FINANZTYP_5.0            0.098460\n",
       "FINANZ_HAUSBAUER         0.091467\n",
       "FINANZTYP_2.0            0.089575\n",
       "FINANZ_MINIMALIST        0.082175\n",
       "SEMIO_KRIT               0.073947\n",
       "SHOPPER_TYP_3.0          0.073766\n",
       "CJT_GESAMTTYP_1.0        0.070474\n",
       "PLZ8_ANTG3               0.070215\n",
       "EWDICHTE                 0.069123\n",
       "PLZ8_ANTG4               0.068543\n",
       "ORTSGR_KLS9              0.068029\n",
       "FINANZTYP_6.0            0.067591\n",
       "NATIONALITAET_KZ_1.0     0.065712\n",
       "WEALTH                   0.064216\n",
       "LP_FAMILIE_FEIN_1.0      0.062055\n",
       "LP_FAMILIE_GROB_1.0      0.062055\n",
       "SEMIO_KAEM               0.059673\n",
       "GFK_URLAUBERTYP_4.0      0.059593\n",
       "KBA05_ANTG4              0.056157\n",
       "ARBEIT                   0.053425\n",
       "WOHNDAUER_2008           0.053316\n",
       "                           ...   \n",
       "CJT_GESAMTTYP_4.0       -0.054283\n",
       "INNENSTADT              -0.054843\n",
       "KONSUMNAEHE             -0.055240\n",
       "MOBI_REGIO              -0.056344\n",
       "SEMIO_SOZ               -0.062044\n",
       "ZABEOTYP_1.0            -0.063391\n",
       "KBA05_GBZ               -0.066774\n",
       "ANZ_PERSONEN            -0.068161\n",
       "PLZ8_ANTG1              -0.069493\n",
       "LP_FAMILIE_GROB_4.0     -0.070962\n",
       "GFK_URLAUBERTYP_9.0     -0.073522\n",
       "FINANZTYP_3.0           -0.077771\n",
       "LP_STATUS_FEIN_5.0      -0.082660\n",
       "ZABEOTYP_5.0            -0.087681\n",
       "FINANZTYP_4.0           -0.088535\n",
       "LP_STATUS_FEIN_2.0      -0.090219\n",
       "ZABEOTYP_4.0            -0.105311\n",
       "FINANZTYP_1.0           -0.129217\n",
       "SEMIO_MAT               -0.129369\n",
       "SEMIO_FAM               -0.133726\n",
       "ONLINE_AFFINITAET       -0.163671\n",
       "SEMIO_KULT              -0.164574\n",
       "SEMIO_RAT               -0.166703\n",
       "FINANZ_ANLEGER          -0.202856\n",
       "SEMIO_PFLICHT           -0.204076\n",
       "SEMIO_TRADV             -0.206639\n",
       "SEMIO_REL               -0.213623\n",
       "FINANZ_UNAUFFAELLIGER   -0.214807\n",
       "FINANZ_SPARER           -0.224524\n",
       "DECADE                  -0.229177\n",
       "Name: 1, Length: 192, dtype: float64"
      ]
     },
     "execution_count": 32,
     "metadata": {},
     "output_type": "execute_result"
    }
   ],
   "source": [
    "# Map weights for the second principal component to corresponding feature names\n",
    "# and then print the linked values, sorted by weight.\n",
    "\n",
    "PCA_weights(scaled_feat, pca_100, 1)"
   ]
  },
  {
   "cell_type": "code",
   "execution_count": 33,
   "metadata": {},
   "outputs": [
    {
     "data": {
      "text/plain": [
       "SEMIO_VERT               0.318781\n",
       "SEMIO_FAM                0.260622\n",
       "SEMIO_SOZ                0.257082\n",
       "SEMIO_KULT               0.251531\n",
       "FINANZTYP_5.0            0.135489\n",
       "FINANZ_MINIMALIST        0.127824\n",
       "SHOPPER_TYP_0.0          0.122531\n",
       "ZABEOTYP_1.0             0.115954\n",
       "SEMIO_REL                0.113248\n",
       "SEMIO_MAT                0.089718\n",
       "RETOURTYP_BK_S           0.074859\n",
       "GREEN_AVANTGARDE         0.074285\n",
       "ORTSGR_KLS9              0.064304\n",
       "EWDICHTE                 0.064199\n",
       "W_KEIT_KIND_HH           0.061755\n",
       "SHOPPER_TYP_1.0          0.054733\n",
       "LP_STATUS_FEIN_10.0      0.051735\n",
       "LP_STATUS_GROB_5.0       0.051735\n",
       "ZABEOTYP_6.0             0.050136\n",
       "PLZ8_ANTG4               0.049982\n",
       "PLZ8_ANTG3               0.049959\n",
       "FINANZ_VORSORGER         0.046726\n",
       "LP_STATUS_FEIN_3.0       0.045285\n",
       "LP_STATUS_FEIN_1.0       0.044280\n",
       "PLZ8_ANTG2               0.036561\n",
       "RELAT_AB                 0.035889\n",
       "ARBEIT                   0.034510\n",
       "LP_STATUS_GROB_3.0       0.032319\n",
       "GEBAEUDETYP_3.0          0.031162\n",
       "NATIONALITAET_KZ_2.0     0.029890\n",
       "                           ...   \n",
       "LP_STATUS_GROB_2.0      -0.030657\n",
       "PLZ8_GBZ                -0.034812\n",
       "HH_EINKOMMEN_SCORE      -0.034928\n",
       "ZABEOTYP_3.0            -0.036300\n",
       "KKK                     -0.038480\n",
       "LP_FAMILIE_FEIN_4.0     -0.039464\n",
       "GEBAEUDETYP_RASTER      -0.041207\n",
       "FINANZ_UNAUFFAELLIGER   -0.046893\n",
       "PLZ8_ANTG1              -0.047838\n",
       "KONSUMNAEHE             -0.049174\n",
       "BALLRAUM                -0.050675\n",
       "SHOPPER_TYP_3.0         -0.052706\n",
       "FINANZ_SPARER           -0.055430\n",
       "LP_FAMILIE_GROB_3.0     -0.055505\n",
       "DECADE                  -0.055531\n",
       "INNENSTADT              -0.057344\n",
       "FINANZ_HAUSBAUER        -0.059297\n",
       "ZABEOTYP_4.0            -0.064043\n",
       "LP_STATUS_FEIN_4.0      -0.070994\n",
       "MOVEMENT                -0.074285\n",
       "LP_STATUS_FEIN_2.0      -0.078881\n",
       "SHOPPER_TYP_2.0         -0.092789\n",
       "FINANZTYP_1.0           -0.099868\n",
       "FINANZ_ANLEGER          -0.153426\n",
       "SEMIO_RAT               -0.154183\n",
       "SEMIO_ERL               -0.208150\n",
       "SEMIO_KRIT              -0.266944\n",
       "SEMIO_DOM               -0.283587\n",
       "SEMIO_KAEM              -0.314740\n",
       "ANREDE_KZ               -0.344708\n",
       "Name: 2, Length: 192, dtype: float64"
      ]
     },
     "execution_count": 33,
     "metadata": {},
     "output_type": "execute_result"
    }
   ],
   "source": [
    "# Map weights for the third principal component to corresponding feature names\n",
    "# and then print the linked values, sorted by weight.\n",
    "\n",
    "PCA_weights(scaled_feat, pca_100, 2)"
   ]
  },
  {
   "cell_type": "markdown",
   "metadata": {},
   "source": [
    "### Discussion 2.3: Interpret Principal Components\n",
    "\n",
    "(Double-click this cell and replace this text with your own text, reporting your observations from detailed investigation of the first few principal components generated. Can we interpret positive and negative values from them in a meaningful way?)\n",
    "\n",
    "For the 1st principal component, it is related to features such as family, social status, income and wealth with\n",
    "1. positive values\n",
    "    - LP_STATUS_GROB_1.0 (Social status:low-income earners)\n",
    "    - HH_EINKOMMEN_SCORE (Estimated household net income)\n",
    "    - WEALTH(Households wealth)\n",
    "    - PLZ8_ANTG3(Number of 6-10 family houses in the PLZ8 region)\n",
    "2. negative values\n",
    "    - FINANZ_MINIMALIST(Financial typology:low financial interest)\n",
    "    - MOBI_REGIO(Movement patterns)\n",
    "    - PLZ8_ANTG1(Number of 1-2 family houses in the PLZ8 region)\n",
    "    - KBA05_GBZ(Number of buildings in the microcell)\n",
    "\n",
    "<br/>The 2nd principal component revolves around financial and personality typology, age, and energy consumption with\n",
    "1. positive values\n",
    "    - ALTERSKATEGORIE_GROB(Estimated age based on given name analysis)\n",
    "    - FINANZ_VORSORGER(Financial typology:be prepared)\n",
    "    - ZABEOTYP_3.0(Energy consumption typology:fair supplied)\n",
    "    - SEMIO_ERL(Personality typology:event-oriented)\n",
    "2. negative values\n",
    "    - DECADE(generation)\n",
    "    - FINANZ_SPARER(Financial typology:money-saver)\n",
    "    - FINANZ_UNAUFFAELLIGER(Financial typology:inconspicuous)\n",
    "    - SEMIO_REL(Personality typology:religious)\n",
    "    \n",
    "<br/>The 3rd principal component is mainly related to personality typology and gender features with\n",
    "1. positive values\n",
    "    - ANREDE_KZ(Gender:femal,male)\n",
    "    - SEMIO_VERT(Personality typology:dreamful)\n",
    "    - SEMIO_FAM (Personality typology:family-minded)\n",
    "    - SEMIO_SOZ (Personality typology:socially-minded)\n",
    "2. negative values\n",
    "    - SEMIO_KAEM (Personality typology:combative attitude)\n",
    "    - SEMIO_DOM (Personality typology:dominant-minded)\n",
    "    - SEMIO_KRIT (Personality typology:critical-minded)\n",
    "    - SEMIO_ERL (Personality typology:event-oriented)"
   ]
  },
  {
   "cell_type": "markdown",
   "metadata": {},
   "source": [
    "## Step 3: Clustering\n",
    "\n",
    "### Step 3.1: Apply Clustering to General Population\n",
    "\n",
    "You've assessed and cleaned the demographics data, then scaled and transformed them. Now, it's time to see how the data clusters in the principal components space. In this substep, you will apply k-means clustering to the dataset and use the average within-cluster distances from each point to their assigned cluster's centroid to decide on a number of clusters to keep.\n",
    "\n",
    "- Use sklearn's [KMeans](http://scikit-learn.org/stable/modules/generated/sklearn.cluster.KMeans.html#sklearn.cluster.KMeans) class to perform k-means clustering on the PCA-transformed data.\n",
    "- Then, compute the average difference from each point to its assigned cluster's center. **Hint**: The KMeans object's `.score()` method might be useful here, but note that in sklearn, scores tend to be defined so that larger is better. Try applying it to a small, toy dataset, or use an internet search to help your understanding.\n",
    "- Perform the above two steps for a number of different cluster counts. You can then see how the average distance decreases with an increasing number of clusters. However, each additional cluster provides a smaller net benefit. Use this fact to select a final number of clusters in which to group the data. **Warning**: because of the large size of the dataset, it can take a long time for the algorithm to resolve. The more clusters to fit, the longer the algorithm will take. You should test for cluster counts through at least 10 clusters to get the full picture, but you shouldn't need to test for a number of clusters above about 30.\n",
    "- Once you've selected a final number of clusters to use, re-fit a KMeans instance to perform the clustering operation. Make sure that you also obtain the cluster assignments for the general demographics data, since you'll be using them in the final Step 3.3."
   ]
  },
  {
   "cell_type": "code",
   "execution_count": 34,
   "metadata": {},
   "outputs": [],
   "source": [
    "from sklearn.cluster import KMeans\n",
    "\n",
    "# Over a number of different cluster counts...\n",
    "\n",
    "    # run k-means clustering on the data and...\n",
    "        \n",
    "    # compute the average within-cluster distances.\n",
    "    \n",
    "def kmeans_score(data, n_cluster):\n",
    "    kmeans = KMeans(n_clusters = n_cluster)\n",
    "    model = kmeans.fit(data)\n",
    "    score = np.abs(model.score(data))\n",
    "    return score\n",
    "\n",
    "scores = []\n",
    "ks = list(range(1, 20))\n",
    "for k in ks:\n",
    "    scores.append(kmeans_score(PCA_data, k))"
   ]
  },
  {
   "cell_type": "code",
   "execution_count": 35,
   "metadata": {},
   "outputs": [
    {
     "data": {
      "image/png": "[encoded data removed]",
      "text/plain": [
       "<matplotlib.figure.Figure at 0x7f9b2da44278>"
      ]
     },
     "metadata": {
      "needs_background": "light"
     },
     "output_type": "display_data"
    }
   ],
   "source": [
    "# Investigate the change in within-cluster distance across number of clusters.\n",
    "# HINT: Use matplotlib's plot function to visualize this relationship.\n",
    "\n",
    "plt.plot(ks, scores, marker='o', linestyle='--')\n",
    "plt.xlabel('Num. of clusters (K)')\n",
    "plt.ylabel('SSE')\n",
    "plt.title(\"Relationship between K & SSE\")\n",
    "plt.show()"
   ]
  },
  {
   "cell_type": "code",
   "execution_count": 36,
   "metadata": {},
   "outputs": [],
   "source": [
    "# Re-fit the k-means model with the selected number of clusters and obtain\n",
    "# cluster predictions for the general population demographics data.\n",
    "\n",
    "kmeans = KMeans(n_clusters = 11)\n",
    "model = kmeans.fit(PCA_data)\n",
    "pred_data = model.predict(PCA_data)"
   ]
  },
  {
   "cell_type": "markdown",
   "metadata": {},
   "source": [
    "### Discussion 3.1: Apply Clustering to General Population\n",
    "\n",
    "(Double-click this cell and replace this text with your own text, reporting your findings and decisions regarding clustering. Into how many clusters have you decided to segment the population?)\n",
    "\n",
    "From the elbow plot, there isn't a clear elbow point but K=11 appears to show a very gradual decrease in SSE. Thus, \n",
    "11 clusters is decided for this problem."
   ]
  },
  {
   "cell_type": "markdown",
   "metadata": {},
   "source": [
    "### Step 3.2: Apply All Steps to the Customer Data\n",
    "\n",
    "Now that you have clusters and cluster centers for the general population, it's time to see how the customer data maps on to those clusters. Take care to not confuse this for re-fitting all of the models to the customer data. Instead, you're going to use the fits from the general population to clean, transform, and cluster the customer data. In the last step of the project, you will interpret how the general population fits apply to the customer data.\n",
    "\n",
    "- Don't forget when loading in the customers data, that it is semicolon (`;`) delimited.\n",
    "- Apply the same feature wrangling, selection, and engineering steps to the customer demographics using the `clean_data()` function you created earlier. (You can assume that the customer demographics data has similar meaning behind missing data patterns as the general demographics data.)\n",
    "- Use the sklearn objects from the general demographics data, and apply their transformations to the customers data. That is, you should not be using a `.fit()` or `.fit_transform()` method to re-fit the old objects, nor should you be creating new sklearn objects! Carry the data through the feature scaling, PCA, and clustering steps, obtaining cluster assignments for all of the data in the customer demographics data."
   ]
  },
  {
   "cell_type": "code",
   "execution_count": 48,
   "metadata": {},
   "outputs": [],
   "source": [
    "# Load in the customer demographics data.\n",
    "\n",
    "customers = pd.read_csv('Udacity_CUSTOMERS_Subset.csv', sep=';')\n",
    "\n",
    "customers_clean = clean_data(customers, feat_info)\n",
    "customers_clean.isnull().sum().sum()\n",
    "\n",
    "customers_clean_imputed = pd.DataFrame(fill_missing.fit_transform(customers_clean))\n",
    "customers_clean_imputed.columns = customers_clean.columns\n",
    "customers_clean_imputed.index = customers_clean.index"
   ]
  },
  {
   "cell_type": "code",
   "execution_count": 49,
   "metadata": {},
   "outputs": [
    {
     "data": {
      "text/plain": [
       "['GEBAEUDETYP_5.0']"
      ]
     },
     "execution_count": 49,
     "metadata": {},
     "output_type": "execute_result"
    }
   ],
   "source": [
    "list(set(azdias_test_df)-set(customers_clean_imputed.columns))"
   ]
  },
  {
   "cell_type": "code",
   "execution_count": 50,
   "metadata": {},
   "outputs": [
    {
     "data": {
      "text/plain": [
       "[]"
      ]
     },
     "execution_count": 50,
     "metadata": {},
     "output_type": "execute_result"
    }
   ],
   "source": [
    "list(set(customers_clean_imputed.columns)-set(azdias_test_df))"
   ]
  },
  {
   "cell_type": "code",
   "execution_count": 51,
   "metadata": {},
   "outputs": [],
   "source": [
    "# Apply preprocessing, feature transformation, and clustering from the general\n",
    "# demographics onto the customer data, obtaining cluster predictions for the\n",
    "# customer demographics data.\n",
    "\n",
    "customers_clean_imputed[\"GEBAEUDETYP_5.0\"] = 0\n",
    "\n",
    "# apply scaler\n",
    "customers_clean_scaled = scaler.transform(customers_clean_imputed)\n",
    "customers_clean_scaled = pd.DataFrame(customers_clean_scaled, columns = list(customers_clean_imputed))\n",
    "# PCA transformation\n",
    "customers_pca = pca_100.transform(customers_clean_scaled)\n",
    "# predict using Kmeans\n",
    "customers_pred = model.predict(customers_pca)"
   ]
  },
  {
   "cell_type": "markdown",
   "metadata": {},
   "source": [
    "### Step 3.3: Compare Customer Data to Demographics Data\n",
    "\n",
    "At this point, you have clustered data based on demographics of the general population of Germany, and seen how the customer data for a mail-order sales company maps onto those demographic clusters. In this final substep, you will compare the two cluster distributions to see where the strongest customer base for the company is.\n",
    "\n",
    "Consider the proportion of persons in each cluster for the general population, and the proportions for the customers. If we think the company's customer base to be universal, then the cluster assignment proportions should be fairly similar between the two. If there are only particular segments of the population that are interested in the company's products, then we should see a mismatch from one to the other. If there is a higher proportion of persons in a cluster for the customer data compared to the general population (e.g. 5% of persons are assigned to a cluster for the general population, but 15% of the customer data is closest to that cluster's centroid) then that suggests the people in that cluster to be a target audience for the company. On the other hand, the proportion of the data in a cluster being larger in the general population than the customer data (e.g. only 2% of customers closest to a population centroid that captures 6% of the data) suggests that group of persons to be outside of the target demographics.\n",
    "\n",
    "Take a look at the following points in this step:\n",
    "\n",
    "- Compute the proportion of data points in each cluster for the general population and the customer data. Visualizations will be useful here: both for the individual dataset proportions, but also to visualize the ratios in cluster representation between groups. Seaborn's [`countplot()`](https://seaborn.pydata.org/generated/seaborn.countplot.html) or [`barplot()`](https://seaborn.pydata.org/generated/seaborn.barplot.html) function could be handy.\n",
    "  - Recall the analysis you performed in step 1.1.3 of the project, where you separated out certain data points from the dataset if they had more than a specified threshold of missing values. If you found that this group was qualitatively different from the main bulk of the data, you should treat this as an additional data cluster in this analysis. Make sure that you account for the number of data points in this subset, for both the general population and customer datasets, when making your computations!\n",
    "- Which cluster or clusters are overrepresented in the customer dataset compared to the general population? Select at least one such cluster and infer what kind of people might be represented by that cluster. Use the principal component interpretations from step 2.3 or look at additional components to help you make this inference. Alternatively, you can use the `.inverse_transform()` method of the PCA and StandardScaler objects to transform centroids back to the original data space and interpret the retrieved values directly.\n",
    "- Perform a similar investigation for the underrepresented clusters. Which cluster or clusters are underrepresented in the customer dataset compared to the general population, and what kinds of people are typified by these clusters?"
   ]
  },
  {
   "cell_type": "code",
   "execution_count": 119,
   "metadata": {},
   "outputs": [],
   "source": [
    "# Compare the proportion of data in each cluster for the customer data to the\n",
    "# proportion of data in each cluster for the general population.\n",
    "\n",
    "customers_df = pd.DataFrame(customers_pred, columns=['col'])\n",
    "customers_df = customers_df['col'].value_counts(normalize=True).mul(100).rename_axis('cluster').reset_index(name='%').sort_values('cluster')\n",
    "\n",
    "general_df = pd.DataFrame(pred_data, columns=['col'])\n",
    "general_df = general_df['col'].value_counts(normalize=True).mul(100).rename_axis('cluster').reset_index(name='%').sort_values('cluster')"
   ]
  },
  {
   "cell_type": "code",
   "execution_count": 149,
   "metadata": {},
   "outputs": [
    {
     "data": {
      "text/plain": [
       "(0, 25)"
      ]
     },
     "execution_count": 149,
     "metadata": {},
     "output_type": "execute_result"
    },
    {
     "data": {
      "image/png": "[encoded data removed]",
      "text/plain": [
       "<matplotlib.figure.Figure at 0x7f9b2ba657b8>"
      ]
     },
     "metadata": {
      "needs_background": "light"
     },
     "output_type": "display_data"
    }
   ],
   "source": [
    "plt.title('General Clusters')\n",
    "sns.barplot(data=general_df, x=\"cluster\", y=\"%\")\n",
    "plt.ylim(0, 25)"
   ]
  },
  {
   "cell_type": "code",
   "execution_count": 144,
   "metadata": {},
   "outputs": [
    {
     "data": {
      "text/plain": [
       "(0, 25)"
      ]
     },
     "execution_count": 144,
     "metadata": {},
     "output_type": "execute_result"
    },
    {
     "data": {
      "image/png": "[encoded data removed]",
      "text/plain": [
       "<matplotlib.figure.Figure at 0x7f9b2dc0e668>"
      ]
     },
     "metadata": {
      "needs_background": "light"
     },
     "output_type": "display_data"
    }
   ],
   "source": [
    "plt.title('Customer Clusters')\n",
    "sns.barplot(data=customers_df, x=\"cluster\", y=\"%\")\n",
    "plt.ylim(0, 25)"
   ]
  },
  {
   "cell_type": "code",
   "execution_count": 159,
   "metadata": {},
   "outputs": [],
   "source": [
    "# What kinds of people are part of a cluster that is overrepresented in the\n",
    "# customer data compared to the general population?\n",
    "\n",
    "centroid_4 = scaler.inverse_transform(pca_100.inverse_transform(model.cluster_centers_[4]))"
   ]
  },
  {
   "cell_type": "code",
   "execution_count": 160,
   "metadata": {},
   "outputs": [
    {
     "data": {
      "text/plain": [
       "ALTERSKATEGORIE_GROB     3.188469\n",
       "ANREDE_KZ                1.482184\n",
       "FINANZ_MINIMALIST        4.503363\n",
       "FINANZ_SPARER            1.856770\n",
       "FINANZ_VORSORGER         3.976015\n",
       "FINANZ_ANLEGER           1.989882\n",
       "FINANZ_UNAUFFAELLIGER    2.337655\n",
       "FINANZ_HAUSBAUER         1.980124\n",
       "GREEN_AVANTGARDE         1.002097\n",
       "HEALTH_TYP               2.115998\n",
       "RETOURTYP_BK_S           3.603717\n",
       "SEMIO_SOZ                4.171973\n",
       "SEMIO_FAM                3.655059\n",
       "SEMIO_REL                3.272214\n",
       "SEMIO_MAT                3.352864\n",
       "SEMIO_VERT               4.731889\n",
       "SEMIO_LUST               5.035568\n",
       "SEMIO_ERL                4.957374\n",
       "SEMIO_KULT               3.753003\n",
       "SEMIO_RAT                3.350951\n",
       "SEMIO_KRIT               4.319269\n",
       "SEMIO_DOM                4.648000\n",
       "SEMIO_KAEM               4.169736\n",
       "SEMIO_PFLICHT            3.469901\n",
       "SEMIO_TRADV              3.293801\n",
       "SOHO_KZ                  0.006296\n",
       "VERS_TYP                 1.508270\n",
       "ANZ_PERSONEN             2.251417\n",
       "ANZ_TITEL               -0.002114\n",
       "HH_EINKOMMEN_SCORE       2.343298\n",
       "                           ...   \n",
       "CAMEO_DEU_2015_5B        0.011034\n",
       "CAMEO_DEU_2015_5C        0.010945\n",
       "CAMEO_DEU_2015_5D        0.011999\n",
       "CAMEO_DEU_2015_5E        0.018630\n",
       "CAMEO_DEU_2015_5F        0.005246\n",
       "CAMEO_DEU_2015_6A        0.008650\n",
       "CAMEO_DEU_2015_6B        0.004625\n",
       "CAMEO_DEU_2015_6C        0.062690\n",
       "CAMEO_DEU_2015_6D        0.015062\n",
       "CAMEO_DEU_2015_6E        0.007549\n",
       "CAMEO_DEU_2015_6F        0.006955\n",
       "CAMEO_DEU_2015_7A        0.006208\n",
       "CAMEO_DEU_2015_7B        0.021266\n",
       "CAMEO_DEU_2015_7C        0.009247\n",
       "CAMEO_DEU_2015_7D        0.004087\n",
       "CAMEO_DEU_2015_7E        0.003165\n",
       "CAMEO_DEU_2015_8A        0.004697\n",
       "CAMEO_DEU_2015_8B        0.011814\n",
       "CAMEO_DEU_2015_8C        0.006513\n",
       "CAMEO_DEU_2015_8D        0.010300\n",
       "CAMEO_DEU_2015_9A        0.005241\n",
       "CAMEO_DEU_2015_9B        0.006289\n",
       "CAMEO_DEU_2015_9C        0.000244\n",
       "CAMEO_DEU_2015_9D        0.001036\n",
       "CAMEO_DEU_2015_9E        0.002883\n",
       "DECADE                   0.001753\n",
       "MOVEMENT                 3.800328\n",
       "WEALTH                  -0.002097\n",
       "LIFE_STAGE               2.115042\n",
       "GEBAEUDETYP_5.0          3.638794\n",
       "Length: 192, dtype: float64"
      ]
     },
     "execution_count": 160,
     "metadata": {},
     "output_type": "execute_result"
    }
   ],
   "source": [
    "overrepresented_c = pd.Series(data = centroid_4, index = customers_clean_imputed.columns)\n",
    "overrepresented_c"
   ]
  },
  {
   "cell_type": "code",
   "execution_count": 161,
   "metadata": {},
   "outputs": [],
   "source": [
    "# What kinds of people are part of a cluster that is underrepresented in the\n",
    "# customer data compared to the general population?\n",
    "\n",
    "centroid_3 = scaler.inverse_transform(pca_100.inverse_transform(model.cluster_centers_[3]))"
   ]
  },
  {
   "cell_type": "code",
   "execution_count": 162,
   "metadata": {},
   "outputs": [
    {
     "data": {
      "text/plain": [
       "ALTERSKATEGORIE_GROB     1.819682\n",
       "ANREDE_KZ                1.983491\n",
       "FINANZ_MINIMALIST        1.131274\n",
       "FINANZ_SPARER            4.419283\n",
       "FINANZ_VORSORGER         2.232738\n",
       "FINANZ_ANLEGER           4.345122\n",
       "FINANZ_UNAUFFAELLIGER    3.804581\n",
       "FINANZ_HAUSBAUER         4.313368\n",
       "GREEN_AVANTGARDE         0.040654\n",
       "HEALTH_TYP               2.338596\n",
       "RETOURTYP_BK_S           2.570569\n",
       "SEMIO_SOZ                3.230658\n",
       "SEMIO_FAM                3.883777\n",
       "SEMIO_REL                5.277485\n",
       "SEMIO_MAT                4.642438\n",
       "SEMIO_VERT               2.292810\n",
       "SEMIO_LUST               3.237029\n",
       "SEMIO_ERL                4.412699\n",
       "SEMIO_KULT               4.035264\n",
       "SEMIO_RAT                5.913289\n",
       "SEMIO_KRIT               5.458551\n",
       "SEMIO_DOM                6.061439\n",
       "SEMIO_KAEM               6.028304\n",
       "SEMIO_PFLICHT            5.996823\n",
       "SEMIO_TRADV              5.306186\n",
       "SOHO_KZ                  0.003711\n",
       "VERS_TYP                 1.550120\n",
       "ANZ_PERSONEN             1.439153\n",
       "ANZ_TITEL                0.000171\n",
       "HH_EINKOMMEN_SCORE       5.579044\n",
       "                           ...   \n",
       "CAMEO_DEU_2015_5B        0.019688\n",
       "CAMEO_DEU_2015_5C        0.006622\n",
       "CAMEO_DEU_2015_5D        0.008288\n",
       "CAMEO_DEU_2015_5E        0.018698\n",
       "CAMEO_DEU_2015_5F        0.003549\n",
       "CAMEO_DEU_2015_6A        0.003475\n",
       "CAMEO_DEU_2015_6B        0.014319\n",
       "CAMEO_DEU_2015_6C        0.065544\n",
       "CAMEO_DEU_2015_6D        0.018418\n",
       "CAMEO_DEU_2015_6E        0.008175\n",
       "CAMEO_DEU_2015_6F        0.018722\n",
       "CAMEO_DEU_2015_7A        0.005250\n",
       "CAMEO_DEU_2015_7B        0.057841\n",
       "CAMEO_DEU_2015_7C        0.051241\n",
       "CAMEO_DEU_2015_7D        0.015668\n",
       "CAMEO_DEU_2015_7E        0.009310\n",
       "CAMEO_DEU_2015_8A        0.003240\n",
       "CAMEO_DEU_2015_8B        0.131138\n",
       "CAMEO_DEU_2015_8C        0.069313\n",
       "CAMEO_DEU_2015_8D        0.063293\n",
       "CAMEO_DEU_2015_9A        0.028099\n",
       "CAMEO_DEU_2015_9B        0.063222\n",
       "CAMEO_DEU_2015_9C        0.075045\n",
       "CAMEO_DEU_2015_9D        0.063147\n",
       "CAMEO_DEU_2015_9E        0.083176\n",
       "DECADE                   0.002245\n",
       "MOVEMENT                 5.727345\n",
       "WEALTH                   0.959346\n",
       "LIFE_STAGE               4.257929\n",
       "GEBAEUDETYP_5.0          2.147312\n",
       "Length: 192, dtype: float64"
      ]
     },
     "execution_count": 162,
     "metadata": {},
     "output_type": "execute_result"
    }
   ],
   "source": [
    "underrepresented_c = pd.Series(data = centroid_3, index = customers_clean_imputed.columns)\n",
    "underrepresented_c"
   ]
  },
  {
   "cell_type": "markdown",
   "metadata": {},
   "source": [
    "### Discussion 3.3: Compare Customer Data to Demographics Data\n",
    "\n",
    "(Double-click this cell and replace this text with your own text, reporting findings and conclusions from the clustering analysis. Can we describe segments of the population that are relatively popular with the mail-order company, or relatively unpopular with the company?)\n",
    "\n",
    "From the above anaylsis, it can be seen that\n",
    "\n",
    "Cluster 3 is overrepresented in the customers data compared to general population data. Some characteristics of the group of population that are relative popular with the mail-order company:\n",
    "\n",
    "- older customers with estimated age range of 46-60 years old (ALTERSKATEGORIE_GROB=3.19),\n",
    "- with very high estimated household net income (HH_EINKOMMEN_SCORE=2.34),\n",
    "- and are non-minimalist in terms of their financial interests (FINANZ_MINIMALIST=4.50) \n",
    "\n",
    "Cluster 4 is underrepresented in the customers data. Some characteristics of the segment of the population that are relatively unpopular with the company includes:\n",
    "\n",
    "- middle-aged customers with estimated age range of 30-45 years old (ALTERSKATEGORIE_GROB=1.82),\n",
    "- with very low estimated household net income (HH_EINKOMMEN_SCORE=5.58),\n",
    "- and leads a minimalist financial lifestyle (FINANZ_MINIMALIST=4.50)"
   ]
  },
  {
   "cell_type": "markdown",
   "metadata": {},
   "source": [
    "> Congratulations on making it this far in the project! Before you finish, make sure to check through the entire notebook from top to bottom to make sure that your analysis follows a logical flow and all of your findings are documented in **Discussion** cells. Once you've checked over all of your work, you should export the notebook as an HTML document to submit for evaluation. You can do this from the menu, navigating to **File -> Download as -> HTML (.html)**. You will submit both that document and this notebook for your project submission."
   ]
  },
  {
   "cell_type": "code",
   "execution_count": null,
   "metadata": {},
   "outputs": [],
   "source": []
  }
 ],
 "metadata": {
  "kernelspec": {
   "display_name": "Python 3",
   "language": "python",
   "name": "python3"
  },
  "language_info": {
   "codemirror_mode": {
    "name": "ipython",
    "version": 3
   },
   "file_extension": ".py",
   "mimetype": "text/x-python",
   "name": "python",
   "nbconvert_exporter": "python",
   "pygments_lexer": "ipython3",
   "version": "3.6.3"
  }
 },
 "nbformat": 4,
 "nbformat_minor": 2
}
